{
 "cells": [
  {
   "cell_type": "markdown",
   "metadata": {},
   "source": [
    "# Sparkify Project Workspace\n",
    "This workspace contains a tiny subset (128MB) of the full dataset available (12GB). Feel free to use this workspace to build your project, or to explore a smaller subset with Spark before deploying your cluster on the cloud. Instructions for setting up your Spark cluster is included in the last lesson of the Extracurricular Spark Course content.\n",
    "\n",
    "You can follow the steps below to guide your data analysis and model building portion of this project."
   ]
  },
  {
   "cell_type": "code",
   "execution_count": 1,
   "metadata": {},
   "outputs": [],
   "source": [
    "# import libraries\n",
    "\n",
    "# base imports\n",
    "import os\n",
    "import sys\n",
    "import numpy as np\n",
    "import pandas as pd\n",
    "import matplotlib.pyplot as plt\n",
    "%matplotlib inline\n",
    "import seaborn as sns\n",
    "\n",
    "import re\n",
    "import datetime\n",
    "\n",
    "# spark imports\n",
    "import pyspark\n",
    "from pyspark.sql import SparkSession\n",
    "from pyspark.sql.functions import udf, sum, avg, col, count, concat, desc, explode, lit, min, max, split, isnan, when, round\n",
    "from pyspark.sql import Window\n",
    "from pyspark.sql.types import IntegerType\n",
    "\n",
    "# other imports\n",
    "import httpagentparser # install required: pip install httpagentparser\n",
    "from user_agents import parse # install required: pip install pyyaml ua-parser user-agents\n",
    "\n"
   ]
  },
  {
   "cell_type": "code",
   "execution_count": 2,
   "metadata": {},
   "outputs": [
    {
     "name": "stdout",
     "output_type": "stream",
     "text": [
      "C:\\Users\\michael.a.hartmann\\Dropbox\\Data Science Training\\Working Directory\n",
      "C:\\Users\\michael.a.hartmann\\Desktop\\sparkify\n"
     ]
    }
   ],
   "source": [
    "# changed working directory\n",
    "\n",
    "print(os.getcwd())\n",
    "os.chdir('C:\\\\Users\\\\michael.a.hartmann\\\\Desktop\\\\sparkify')\n",
    "print(os.getcwd())"
   ]
  },
  {
   "cell_type": "code",
   "execution_count": 3,
   "metadata": {},
   "outputs": [],
   "source": [
    "# create a Spark session\n",
    "\n",
    "spark = SparkSession \\\n",
    "    .builder \\\n",
    "    .appName(\"Sparkify Capstone Project\") \\\n",
    "    .getOrCreate()"
   ]
  },
  {
   "cell_type": "code",
   "execution_count": 4,
   "metadata": {},
   "outputs": [
    {
     "data": {
      "text/html": [
       "\n",
       "            <div>\n",
       "                <p><b>SparkSession - in-memory</b></p>\n",
       "                \n",
       "        <div>\n",
       "            <p><b>SparkContext</b></p>\n",
       "\n",
       "            <p><a href=\"http://CPX-7F0MADTQ5VH.dir.svc.accenture.com:4040\">Spark UI</a></p>\n",
       "\n",
       "            <dl>\n",
       "              <dt>Version</dt>\n",
       "                <dd><code>v3.0.0</code></dd>\n",
       "              <dt>Master</dt>\n",
       "                <dd><code>local[*]</code></dd>\n",
       "              <dt>AppName</dt>\n",
       "                <dd><code>Sparkify Capstone Project</code></dd>\n",
       "            </dl>\n",
       "        </div>\n",
       "        \n",
       "            </div>\n",
       "        "
      ],
      "text/plain": [
       "<pyspark.sql.session.SparkSession at 0x1d713b10>"
      ]
     },
     "execution_count": 4,
     "metadata": {},
     "output_type": "execute_result"
    }
   ],
   "source": [
    "# check session details and access spark UI\n",
    "spark"
   ]
  },
  {
   "cell_type": "markdown",
   "metadata": {},
   "source": [
    "# Load and Clean Dataset\n",
    "In this workspace, the mini-dataset file is `mini_sparkify_event_data.json`. Load and clean the dataset, checking for invalid or missing data - for example, records without userids or sessionids. "
   ]
  },
  {
   "cell_type": "markdown",
   "metadata": {},
   "source": [
    "---\n",
    "\n",
    "<b>Load & Clean </b>\n",
    "\n",
    "The orignial data set \"mini_sparkify_event_data.json\" consists of 18 columns\n",
    "\n",
    "The mini data set has a file size of about 128MB. The original data set is about 12GB in size, so we are looking at a relatively small sample from the total records.\n",
    "\n",
    "---"
   ]
  },
  {
   "cell_type": "code",
   "execution_count": 5,
   "metadata": {},
   "outputs": [],
   "source": [
    "# load the dataset\n",
    "path = \"mini_sparkify_event_data.json\"\n",
    "df = spark.read.json(path)"
   ]
  },
  {
   "cell_type": "code",
   "execution_count": 6,
   "metadata": {
    "scrolled": false
   },
   "outputs": [
    {
     "name": "stdout",
     "output_type": "stream",
     "text": [
      "Number of rows: 286500\n",
      "Number of columns: 18\n",
      "Text Columns: 12\n",
      "Numberic Columns: 6\n"
     ]
    }
   ],
   "source": [
    "# first we are looking at the quantities of the dataset\n",
    "print(\"Number of rows:\", df.count())\n",
    "print(\"Number of columns:\", len(df.columns))\n",
    "text_columns = len([col for col in df.dtypes if col[1] == 'string'])\n",
    "print(\"Text Columns:\", text_columns)\n",
    "print(\"Numberic Columns:\", len(df.columns) - text_columns)"
   ]
  },
  {
   "cell_type": "code",
   "execution_count": 7,
   "metadata": {
    "scrolled": false
   },
   "outputs": [
    {
     "name": "stdout",
     "output_type": "stream",
     "text": [
      "root\n",
      " |-- artist: string (nullable = true)\n",
      " |-- auth: string (nullable = true)\n",
      " |-- firstName: string (nullable = true)\n",
      " |-- gender: string (nullable = true)\n",
      " |-- itemInSession: long (nullable = true)\n",
      " |-- lastName: string (nullable = true)\n",
      " |-- length: double (nullable = true)\n",
      " |-- level: string (nullable = true)\n",
      " |-- location: string (nullable = true)\n",
      " |-- method: string (nullable = true)\n",
      " |-- page: string (nullable = true)\n",
      " |-- registration: long (nullable = true)\n",
      " |-- sessionId: long (nullable = true)\n",
      " |-- song: string (nullable = true)\n",
      " |-- status: long (nullable = true)\n",
      " |-- ts: long (nullable = true)\n",
      " |-- userAgent: string (nullable = true)\n",
      " |-- userId: string (nullable = true)\n",
      "\n"
     ]
    }
   ],
   "source": [
    "# Let's have a look at the schema (columns of the dataset)\n",
    "df.printSchema()"
   ]
  },
  {
   "cell_type": "code",
   "execution_count": 8,
   "metadata": {},
   "outputs": [
    {
     "name": "stdout",
     "output_type": "stream",
     "text": [
      "-RECORD 0---------------------------------------------------------------------------------\n",
      " artist        | Martha Tilston                                                           \n",
      " auth          | Logged In                                                                \n",
      " firstName     | Colin                                                                    \n",
      " gender        | M                                                                        \n",
      " itemInSession | 50                                                                       \n",
      " lastName      | Freeman                                                                  \n",
      " length        | 277.89016                                                                \n",
      " level         | paid                                                                     \n",
      " location      | Bakersfield, CA                                                          \n",
      " method        | PUT                                                                      \n",
      " page          | NextSong                                                                 \n",
      " registration  | 1538173362000                                                            \n",
      " sessionId     | 29                                                                       \n",
      " song          | Rockpools                                                                \n",
      " status        | 200                                                                      \n",
      " ts            | 1538352117000                                                            \n",
      " userAgent     | Mozilla/5.0 (Windows NT 6.1; WOW64; rv:31.0) Gecko/20100101 Firefox/31.0 \n",
      " userId        | 30                                                                       \n",
      "only showing top 1 row\n",
      "\n"
     ]
    }
   ],
   "source": [
    "# look into a record\n",
    "df.show(1, vertical=True, truncate=False)"
   ]
  },
  {
   "cell_type": "code",
   "execution_count": 9,
   "metadata": {},
   "outputs": [],
   "source": [
    "# we can already see that some data wrangling will be necessary later, e.g. to convert the timestamp or userAgent field."
   ]
  },
  {
   "cell_type": "code",
   "execution_count": 10,
   "metadata": {},
   "outputs": [
    {
     "name": "stdout",
     "output_type": "stream",
     "text": [
      "-RECORD 0---------------\n",
      " summary       | count  \n",
      " artist        | 228108 \n",
      " auth          | 286500 \n",
      " firstName     | 278154 \n",
      " gender        | 278154 \n",
      " itemInSession | 286500 \n",
      " lastName      | 278154 \n",
      " length        | 228108 \n",
      " level         | 286500 \n",
      " location      | 278154 \n",
      " method        | 286500 \n",
      " page          | 286500 \n",
      " registration  | 278154 \n",
      " sessionId     | 286500 \n",
      " song          | 228108 \n",
      " status        | 286500 \n",
      " ts            | 286500 \n",
      " userAgent     | 278154 \n",
      " userId        | 286500 \n",
      "only showing top 1 row\n",
      "\n"
     ]
    }
   ],
   "source": [
    "# next we have a look at the number of values per column\n",
    "df.summary().show(1, vertical=True)"
   ]
  },
  {
   "cell_type": "code",
   "execution_count": 11,
   "metadata": {},
   "outputs": [],
   "source": [
    "# we can see there are values missing"
   ]
  },
  {
   "cell_type": "code",
   "execution_count": 12,
   "metadata": {},
   "outputs": [
    {
     "name": "stdout",
     "output_type": "stream",
     "text": [
      "artist 58392\n",
      "auth 0\n",
      "firstName 8346\n",
      "gender 8346\n",
      "itemInSession 0\n",
      "lastName 8346\n",
      "length 58392\n",
      "level 0\n",
      "location 8346\n",
      "method 0\n",
      "page 0\n",
      "registration 8346\n",
      "sessionId 0\n",
      "song 58392\n",
      "status 0\n",
      "ts 0\n",
      "userAgent 8346\n",
      "userId 8346\n"
     ]
    }
   ],
   "source": [
    "# next we count missing values for each column\n",
    "# we can do this with the filter function and isNull() | isnan by looping through the columns\n",
    "# also we have to take empty strings '' into account\n",
    "\n",
    "for col in df.columns:\n",
    "    count_na = df.filter(isnan(df[col]) | df[col].isNull() | (df[col] == '')).count()\n",
    "    print(col, count_na)"
   ]
  },
  {
   "cell_type": "code",
   "execution_count": 13,
   "metadata": {},
   "outputs": [
    {
     "name": "stdout",
     "output_type": "stream",
     "text": [
      "+------+\n",
      "|userId|\n",
      "+------+\n",
      "|      |\n",
      "|    10|\n",
      "|   100|\n",
      "|100001|\n",
      "|100002|\n",
      "|100003|\n",
      "|100004|\n",
      "|100005|\n",
      "|100006|\n",
      "|100007|\n",
      "+------+\n",
      "only showing top 10 rows\n",
      "\n"
     ]
    }
   ],
   "source": [
    "# we can see that 8346 rows of user data are missing and 58392 data points related to songs (artist, song, length)\n",
    "# lets investigate unique userIds\n",
    "\n",
    "df.select(\"userId\").dropDuplicates().sort(\"userId\").show(10)"
   ]
  },
  {
   "cell_type": "code",
   "execution_count": 14,
   "metadata": {},
   "outputs": [
    {
     "name": "stdout",
     "output_type": "stream",
     "text": [
      "+------+----------+---------+------+-------------+--------+------+-----+--------+------+-----+------------+---------+----+------+-------------+---------+------+\n",
      "|artist|      auth|firstName|gender|itemInSession|lastName|length|level|location|method| page|registration|sessionId|song|status|           ts|userAgent|userId|\n",
      "+------+----------+---------+------+-------------+--------+------+-----+--------+------+-----+------------+---------+----+------+-------------+---------+------+\n",
      "|  null|Logged Out|     null|  null|          100|    null|  null| free|    null|   GET| Home|        null|        8|null|   200|1538355745000|     null|      |\n",
      "|  null|Logged Out|     null|  null|          101|    null|  null| free|    null|   GET| Help|        null|        8|null|   200|1538355807000|     null|      |\n",
      "|  null|Logged Out|     null|  null|          102|    null|  null| free|    null|   GET| Home|        null|        8|null|   200|1538355841000|     null|      |\n",
      "|  null|Logged Out|     null|  null|          103|    null|  null| free|    null|   PUT|Login|        null|        8|null|   307|1538355842000|     null|      |\n",
      "|  null|Logged Out|     null|  null|            2|    null|  null| free|    null|   GET| Home|        null|      240|null|   200|1538356678000|     null|      |\n",
      "+------+----------+---------+------+-------------+--------+------+-----+--------+------+-----+------------+---------+----+------+-------------+---------+------+\n",
      "only showing top 5 rows\n",
      "\n"
     ]
    }
   ],
   "source": [
    "# we can see that there are empty userIds in the dataset.\n",
    "df.where(df.userId == '').show(5)"
   ]
  },
  {
   "cell_type": "code",
   "execution_count": 15,
   "metadata": {},
   "outputs": [
    {
     "name": "stdout",
     "output_type": "stream",
     "text": [
      "artist 50046\n",
      "auth 0\n",
      "firstName 0\n",
      "gender 0\n",
      "itemInSession 0\n",
      "lastName 0\n",
      "length 50046\n",
      "level 0\n",
      "location 0\n",
      "method 0\n",
      "page 0\n",
      "registration 0\n",
      "sessionId 0\n",
      "song 50046\n",
      "status 0\n",
      "ts 0\n",
      "userAgent 0\n",
      "userId 0\n"
     ]
    }
   ],
   "source": [
    "# it appears that the events where recoreded when the visitor was not logged into his account (auth='logged Out')\n",
    "# without userId we cannot analyse the event for a partiular user. In this case we can filter out the missing values.\n",
    "\n",
    "df_new = df.filter(df.userId != '')\n",
    "\n",
    "# quick check on the cleaned data:\n",
    "\n",
    "for col in df.columns:\n",
    "    count_na = df_new.filter(isnan(df[col]) | df[col].isNull() | (df[col] == '')).count()\n",
    "    print(col, count_na)"
   ]
  },
  {
   "cell_type": "code",
   "execution_count": 16,
   "metadata": {},
   "outputs": [],
   "source": [
    "# Alternative method to check for missing values in pyspark: \n",
    "# https://stackoverflow.com/questions/44627386/how-to-find-count-of-null-and-nan-values-for-each-column-in-a-pyspark-dataframe\n",
    "# df_new.select([count(when(isnan(c) | c.isNull(), c)).alias(c) for c in df.columns]).show(vertical=True, truncate=False)"
   ]
  },
  {
   "cell_type": "code",
   "execution_count": 17,
   "metadata": {},
   "outputs": [],
   "source": [
    "# convert the time columns from milliseconds into readable time format\n",
    "# https://stackoverflow.com/questions/3682748/converting-unix-timestamp-string-to-readable-date\n",
    "\n",
    "convert_time = udf(lambda x: datetime.datetime.fromtimestamp(x / 1000.0).strftime(\"%Y-%m-%d %H:%M:%S\"))"
   ]
  },
  {
   "cell_type": "code",
   "execution_count": 18,
   "metadata": {},
   "outputs": [],
   "source": [
    "# new column for 'registration'\n",
    "df_new = df_new.withColumn('registration_time', convert_time('registration'))"
   ]
  },
  {
   "cell_type": "code",
   "execution_count": 19,
   "metadata": {},
   "outputs": [],
   "source": [
    "# new column for 'ts'\n",
    "df_new = df_new.withColumn('event_timestamp', convert_time('ts'))"
   ]
  },
  {
   "cell_type": "code",
   "execution_count": 20,
   "metadata": {},
   "outputs": [
    {
     "name": "stdout",
     "output_type": "stream",
     "text": [
      "-RECORD 0-------------------------------------------------------------------------------------\n",
      " artist            | Martha Tilston                                                           \n",
      " auth              | Logged In                                                                \n",
      " firstName         | Colin                                                                    \n",
      " gender            | M                                                                        \n",
      " itemInSession     | 50                                                                       \n",
      " lastName          | Freeman                                                                  \n",
      " length            | 277.89016                                                                \n",
      " level             | paid                                                                     \n",
      " location          | Bakersfield, CA                                                          \n",
      " method            | PUT                                                                      \n",
      " page              | NextSong                                                                 \n",
      " registration      | 1538173362000                                                            \n",
      " sessionId         | 29                                                                       \n",
      " song              | Rockpools                                                                \n",
      " status            | 200                                                                      \n",
      " ts                | 1538352117000                                                            \n",
      " userAgent         | Mozilla/5.0 (Windows NT 6.1; WOW64; rv:31.0) Gecko/20100101 Firefox/31.0 \n",
      " userId            | 30                                                                       \n",
      " registration_time | 2018-09-29 00:22:42                                                      \n",
      " event_timestamp   | 2018-10-01 02:01:57                                                      \n",
      "only showing top 1 row\n",
      "\n"
     ]
    }
   ],
   "source": [
    "df_new.show(1, vertical=True, truncate=False)"
   ]
  },
  {
   "cell_type": "code",
   "execution_count": 21,
   "metadata": {},
   "outputs": [
    {
     "data": {
      "text/plain": [
       "Row(artist='Martha Tilston', auth='Logged In', firstName='Colin', gender='M', itemInSession=50, lastName='Freeman', length=277.89016, level='paid', location='Bakersfield, CA', method='PUT', page='NextSong', registration=1538173362000, sessionId=29, song='Rockpools', status=200, ts=1538352117000, userAgent='Mozilla/5.0 (Windows NT 6.1; WOW64; rv:31.0) Gecko/20100101 Firefox/31.0', userId='30', registration_time='2018-09-29 00:22:42', event_timestamp='2018-10-01 02:01:57')"
      ]
     },
     "execution_count": 21,
     "metadata": {},
     "output_type": "execute_result"
    }
   ],
   "source": [
    "df_new.head()"
   ]
  },
  {
   "cell_type": "code",
   "execution_count": 22,
   "metadata": {},
   "outputs": [],
   "source": [
    "# next we split the column 'location' into city and state\n",
    "# https://stackoverflow.com/questions/39235704/split-spark-dataframe-string-column-into-multiple-columns\n",
    "\n",
    "split_location = split(df_new['location'], ', ')\n",
    "df_new = df_new.withColumn('city', split_location.getItem(0))\n",
    "df_new = df_new.withColumn('state', split_location.getItem(1))"
   ]
  },
  {
   "cell_type": "code",
   "execution_count": 23,
   "metadata": {},
   "outputs": [],
   "source": [
    "# last we parse the column 'userAgent' to get the browser and operating system that was used per event\n",
    "# https://stackoverflow.com/questions/9209377/how-to-parse-user-agent-string-python\n",
    "\n",
    "parse_browser = udf(lambda x: httpagentparser.detect(x)['browser']['name'])\n",
    "parse_os = udf(lambda x: httpagentparser.detect(x)['os']['name'])\n",
    "\n",
    "\n",
    "# edit: found a second parser that can detect the devices used and wether it was mobile, tablet or pc.\n",
    "# this insight can be valuable for the product owner in further development of Sparkify.\n",
    "\n",
    "# define functions that use the 'parse' function\n",
    "\n",
    "# parse device type\n",
    "def parse_device_type(agent_string):\n",
    "    '''parse device type'''\n",
    "    user_agent = parse(agent_string)\n",
    "    \n",
    "    if user_agent.is_mobile:\n",
    "        return 'Mobile'\n",
    "    elif user_agent.is_tablet:\n",
    "        return 'Tablet'\n",
    "    elif user_agent.is_pc:\n",
    "        return 'Pc'\n",
    "    else:\n",
    "        return 'Unkown'\n",
    "\n",
    "# parse device family\n",
    "def parse_device_family(agent_string):\n",
    "    '''parse device family'''\n",
    "    user_agent = parse(agent_string)\n",
    "        \n",
    "    return user_agent.device.family\n",
    "    \n",
    "# parse device model\n",
    "def parse_device_model(agent_string):\n",
    "    '''parse device model'''\n",
    "    user_agent = parse(agent_string)\n",
    "    \n",
    "    return user_agent.device.model\n",
    "    \n",
    "\n",
    "# convert to udf for pyspark\n",
    "parse_device_type = udf(parse_device_type)\n",
    "parse_device_family = udf(parse_device_family)\n",
    "parse_device_model = udf(parse_device_model)"
   ]
  },
  {
   "cell_type": "code",
   "execution_count": 24,
   "metadata": {},
   "outputs": [],
   "source": [
    "# create new columns for browse, operating system, device type and model\n",
    "df_new = df_new.withColumn('browser', parse_browser(df_new.userAgent))\n",
    "df_new = df_new.withColumn('operating_system', parse_os(df_new.userAgent))\n",
    "df_new = df_new.withColumn('device_type', parse_device_type(df_new.userAgent))\n",
    "df_new = df_new.withColumn('device_family', parse_device_family(df_new.userAgent))\n",
    "df_new = df_new.withColumn('device_model', parse_device_model(df_new.userAgent))\n"
   ]
  },
  {
   "cell_type": "code",
   "execution_count": 25,
   "metadata": {},
   "outputs": [
    {
     "name": "stdout",
     "output_type": "stream",
     "text": [
      "-RECORD 0-------------------------------------------------------------------------------------\n",
      " artist            | Martha Tilston                                                           \n",
      " auth              | Logged In                                                                \n",
      " firstName         | Colin                                                                    \n",
      " gender            | M                                                                        \n",
      " itemInSession     | 50                                                                       \n",
      " lastName          | Freeman                                                                  \n",
      " length            | 277.89016                                                                \n",
      " level             | paid                                                                     \n",
      " location          | Bakersfield, CA                                                          \n",
      " method            | PUT                                                                      \n",
      " page              | NextSong                                                                 \n",
      " registration      | 1538173362000                                                            \n",
      " sessionId         | 29                                                                       \n",
      " song              | Rockpools                                                                \n",
      " status            | 200                                                                      \n",
      " ts                | 1538352117000                                                            \n",
      " userAgent         | Mozilla/5.0 (Windows NT 6.1; WOW64; rv:31.0) Gecko/20100101 Firefox/31.0 \n",
      " userId            | 30                                                                       \n",
      " registration_time | 2018-09-29 00:22:42                                                      \n",
      " event_timestamp   | 2018-10-01 02:01:57                                                      \n",
      " city              | Bakersfield                                                              \n",
      " state             | CA                                                                       \n",
      " browser           | Firefox                                                                  \n",
      " operating_system  | Windows                                                                  \n",
      " device_type       | Pc                                                                       \n",
      " device_family     | Other                                                                    \n",
      " device_model      | null                                                                     \n",
      "only showing top 1 row\n",
      "\n"
     ]
    }
   ],
   "source": [
    "# final check on cleaned df\n",
    "df_new.show(1, vertical=True, truncate=False)"
   ]
  },
  {
   "cell_type": "code",
   "execution_count": 26,
   "metadata": {},
   "outputs": [],
   "source": [
    "# our dataset is now cleaned for further analysis\n",
    "df = df_new"
   ]
  },
  {
   "cell_type": "markdown",
   "metadata": {},
   "source": [
    "# Exploratory Data Analysis\n",
    "When you're working with the full dataset, perform EDA by loading a small subset of the data and doing basic manipulations within Spark. In this workspace, you are already provided a small subset of data you can explore.\n",
    "\n",
    "### Define Churn\n",
    "\n",
    "Once you've done some preliminary analysis, create a column `Churn` to use as the label for your model. I suggest using the `Cancellation Confirmation` events to define your churn, which happen for both paid and free users. As a bonus task, you can also look into the `Downgrade` events."
   ]
  },
  {
   "cell_type": "code",
   "execution_count": 27,
   "metadata": {
    "scrolled": false
   },
   "outputs": [
    {
     "name": "stdout",
     "output_type": "stream",
     "text": [
      "+---------+------+\n",
      "|auth     |count |\n",
      "+---------+------+\n",
      "|Logged In|278102|\n",
      "|Cancelled|52    |\n",
      "+---------+------+\n",
      "\n",
      "+-----+------+\n",
      "|level|count |\n",
      "+-----+------+\n",
      "|paid |222433|\n",
      "|free |55721 |\n",
      "+-----+------+\n",
      "\n",
      "+-------------------------+------+\n",
      "|page                     |count |\n",
      "+-------------------------+------+\n",
      "|NextSong                 |228108|\n",
      "|Thumbs Up                |12551 |\n",
      "|Home                     |10082 |\n",
      "|Add to Playlist          |6526  |\n",
      "|Add Friend               |4277  |\n",
      "|Roll Advert              |3933  |\n",
      "|Logout                   |3226  |\n",
      "|Thumbs Down              |2546  |\n",
      "|Downgrade                |2055  |\n",
      "|Settings                 |1514  |\n",
      "|Help                     |1454  |\n",
      "|Upgrade                  |499   |\n",
      "|About                    |495   |\n",
      "|Save Settings            |310   |\n",
      "|Error                    |252   |\n",
      "|Submit Upgrade           |159   |\n",
      "|Submit Downgrade         |63    |\n",
      "|Cancel                   |52    |\n",
      "|Cancellation Confirmation|52    |\n",
      "+-------------------------+------+\n",
      "\n"
     ]
    }
   ],
   "source": [
    "# to define churn, lets have a look at the authentication and subscription_type columns\n",
    "df.groupBy('auth').count().sort('count', ascending=False).show(truncate=False)\n",
    "df.groupBy('level').count().sort('count', ascending=False).show(truncate=False)\n",
    "df.groupBy('page').count().sort('count', ascending=False).show(truncate=False)"
   ]
  },
  {
   "cell_type": "code",
   "execution_count": 28,
   "metadata": {
    "scrolled": true
   },
   "outputs": [
    {
     "name": "stdout",
     "output_type": "stream",
     "text": [
      "52\n",
      "+------+---------+-------------------------+\n",
      "|userId|auth     |page                     |\n",
      "+------+---------+-------------------------+\n",
      "|18    |Cancelled|Cancellation Confirmation|\n",
      "|32    |Cancelled|Cancellation Confirmation|\n",
      "|125   |Cancelled|Cancellation Confirmation|\n",
      "|105   |Cancelled|Cancellation Confirmation|\n",
      "|17    |Cancelled|Cancellation Confirmation|\n",
      "|143   |Cancelled|Cancellation Confirmation|\n",
      "|101   |Cancelled|Cancellation Confirmation|\n",
      "|129   |Cancelled|Cancellation Confirmation|\n",
      "|121   |Cancelled|Cancellation Confirmation|\n",
      "|51    |Cancelled|Cancellation Confirmation|\n",
      "|87    |Cancelled|Cancellation Confirmation|\n",
      "|122   |Cancelled|Cancellation Confirmation|\n",
      "|12    |Cancelled|Cancellation Confirmation|\n",
      "|58    |Cancelled|Cancellation Confirmation|\n",
      "|73    |Cancelled|Cancellation Confirmation|\n",
      "|3     |Cancelled|Cancellation Confirmation|\n",
      "|106   |Cancelled|Cancellation Confirmation|\n",
      "|103   |Cancelled|Cancellation Confirmation|\n",
      "|28    |Cancelled|Cancellation Confirmation|\n",
      "|54    |Cancelled|Cancellation Confirmation|\n",
      "|29    |Cancelled|Cancellation Confirmation|\n",
      "|70    |Cancelled|Cancellation Confirmation|\n",
      "|53    |Cancelled|Cancellation Confirmation|\n",
      "|100011|Cancelled|Cancellation Confirmation|\n",
      "|100001|Cancelled|Cancellation Confirmation|\n",
      "|100024|Cancelled|Cancellation Confirmation|\n",
      "|100006|Cancelled|Cancellation Confirmation|\n",
      "|100019|Cancelled|Cancellation Confirmation|\n",
      "|100003|Cancelled|Cancellation Confirmation|\n",
      "|100023|Cancelled|Cancellation Confirmation|\n",
      "|100005|Cancelled|Cancellation Confirmation|\n",
      "|100017|Cancelled|Cancellation Confirmation|\n",
      "|100025|Cancelled|Cancellation Confirmation|\n",
      "|100009|Cancelled|Cancellation Confirmation|\n",
      "|100012|Cancelled|Cancellation Confirmation|\n",
      "|100013|Cancelled|Cancellation Confirmation|\n",
      "|100022|Cancelled|Cancellation Confirmation|\n",
      "|100014|Cancelled|Cancellation Confirmation|\n",
      "|100015|Cancelled|Cancellation Confirmation|\n",
      "|100021|Cancelled|Cancellation Confirmation|\n",
      "|100007|Cancelled|Cancellation Confirmation|\n",
      "|200001|Cancelled|Cancellation Confirmation|\n",
      "|200024|Cancelled|Cancellation Confirmation|\n",
      "|200011|Cancelled|Cancellation Confirmation|\n",
      "|200021|Cancelled|Cancellation Confirmation|\n",
      "|200018|Cancelled|Cancellation Confirmation|\n",
      "|200015|Cancelled|Cancellation Confirmation|\n",
      "|200017|Cancelled|Cancellation Confirmation|\n",
      "|200016|Cancelled|Cancellation Confirmation|\n",
      "|200020|Cancelled|Cancellation Confirmation|\n",
      "|300007|Cancelled|Cancellation Confirmation|\n",
      "|300001|Cancelled|Cancellation Confirmation|\n",
      "+------+---------+-------------------------+\n",
      "\n"
     ]
    }
   ],
   "source": [
    "# for the logged in users, there are free and paid subscription levels.\n",
    "# authentication is either 'logged in' or 'cancelled'.\n",
    "# from the 'page' of the event, we can see that that 'Cancellation Confirmation' matches the 'Canceled' auth status:\n",
    "print(df.select('userId', 'auth', 'page').where(df.auth == 'Cancelled').count())\n",
    "df.select('userId', 'auth', 'page').where(df.auth == 'Cancelled').show(53, truncate=False)"
   ]
  },
  {
   "cell_type": "code",
   "execution_count": 29,
   "metadata": {},
   "outputs": [],
   "source": [
    "# we can therefore define churn as either auth = Cancelled or page = Cancellation Confirmation.\n",
    "# another possibility would be to look at the 'Submit Downgrade' page, since the company is loosing the users subscription payment.\n",
    "\n",
    "# next, we add a column 'churn' with values 0 = user did not churn and 1 = user churned.\n",
    "lable_churn = udf(lambda x: 1 if x == 'Cancelled' else 0, IntegerType())\n",
    "\n",
    "df = df.withColumn('churn', lable_churn(df.auth))"
   ]
  },
  {
   "cell_type": "code",
   "execution_count": 30,
   "metadata": {},
   "outputs": [
    {
     "name": "stdout",
     "output_type": "stream",
     "text": [
      "+------+---------+--------+-----+\n",
      "|userId|     auth|    page|churn|\n",
      "+------+---------+--------+-----+\n",
      "|    30|Logged In|NextSong|    0|\n",
      "+------+---------+--------+-----+\n",
      "only showing top 1 row\n",
      "\n",
      "+------+---------+-------------------------+-----+\n",
      "|userId|auth     |page                     |churn|\n",
      "+------+---------+-------------------------+-----+\n",
      "|18    |Cancelled|Cancellation Confirmation|1    |\n",
      "+------+---------+-------------------------+-----+\n",
      "only showing top 1 row\n",
      "\n"
     ]
    }
   ],
   "source": [
    "# filter(\"page = 'Submit Downgrade'\")\n",
    "df.select('userId', 'auth', 'page', 'churn').show(1)\n",
    "df.select('userId', 'auth', 'page', 'churn').where(df.auth == 'Cancelled').show(1, truncate=False)"
   ]
  },
  {
   "cell_type": "markdown",
   "metadata": {},
   "source": [
    "### Explore Data\n",
    "Once you've defined churn, perform some exploratory data analysis to observe the behavior for users who stayed vs users who churned. You can start by exploring aggregates on these two groups of users, observing how much of a specific action they experienced per a certain time unit or number of songs played."
   ]
  },
  {
   "cell_type": "markdown",
   "metadata": {},
   "source": [
    "Considerations for data analysis:\n",
    "- users and their behavior \n",
    "- users who stayed vs users who curned\n",
    "- systems, browsers and devices used"
   ]
  },
  {
   "cell_type": "code",
   "execution_count": 31,
   "metadata": {
    "scrolled": true
   },
   "outputs": [
    {
     "name": "stdout",
     "output_type": "stream",
     "text": [
      "root\n",
      " |-- artist: string (nullable = true)\n",
      " |-- auth: string (nullable = true)\n",
      " |-- firstName: string (nullable = true)\n",
      " |-- gender: string (nullable = true)\n",
      " |-- itemInSession: long (nullable = true)\n",
      " |-- lastName: string (nullable = true)\n",
      " |-- length: double (nullable = true)\n",
      " |-- level: string (nullable = true)\n",
      " |-- location: string (nullable = true)\n",
      " |-- method: string (nullable = true)\n",
      " |-- page: string (nullable = true)\n",
      " |-- registration: long (nullable = true)\n",
      " |-- sessionId: long (nullable = true)\n",
      " |-- song: string (nullable = true)\n",
      " |-- status: long (nullable = true)\n",
      " |-- ts: long (nullable = true)\n",
      " |-- userAgent: string (nullable = true)\n",
      " |-- userId: string (nullable = true)\n",
      " |-- registration_time: string (nullable = true)\n",
      " |-- event_timestamp: string (nullable = true)\n",
      " |-- city: string (nullable = true)\n",
      " |-- state: string (nullable = true)\n",
      " |-- browser: string (nullable = true)\n",
      " |-- operating_system: string (nullable = true)\n",
      " |-- device_type: string (nullable = true)\n",
      " |-- device_family: string (nullable = true)\n",
      " |-- device_model: string (nullable = true)\n",
      " |-- churn: integer (nullable = true)\n",
      "\n"
     ]
    }
   ],
   "source": [
    "df.printSchema()"
   ]
  },
  {
   "cell_type": "markdown",
   "metadata": {},
   "source": [
    "<b>Users</b>"
   ]
  },
  {
   "cell_type": "code",
   "execution_count": 32,
   "metadata": {},
   "outputs": [
    {
     "name": "stdout",
     "output_type": "stream",
     "text": [
      "Unique Users: 225\n",
      "Churned Users: 52\n",
      "Not Churned: 173\n"
     ]
    }
   ],
   "source": [
    "# first we look at the number of unique users, payed and free accounts, gender and location\n",
    "print(\"Unique Users:\", df.select('userId').distinct().count())\n",
    "print(\"Churned Users:\", df.select('userId').where(df.churn == 1).distinct().count())\n",
    "print(\"Not Churned:\", df.select('userId').distinct().count() - df.select('userId').where(df.churn == 1).distinct().count())"
   ]
  },
  {
   "cell_type": "code",
   "execution_count": 33,
   "metadata": {},
   "outputs": [
    {
     "data": {
      "text/plain": [
       "165"
      ]
     },
     "execution_count": 33,
     "metadata": {},
     "output_type": "execute_result"
    }
   ],
   "source": [
    "df.select('userId', 'level').where(df.level == 'paid').distinct().count() #show()"
   ]
  },
  {
   "cell_type": "code",
   "execution_count": 34,
   "metadata": {},
   "outputs": [],
   "source": [
    "# next, we categorize users into free and paid users\n",
    "# since a users level can change multiple times over time, we define that a paid user is one that had\n",
    "# a paid subscription at least once vs free users never paid for the service\n",
    "\n",
    "unique_users_paid = df.select('userId').where(df.level == 'paid').distinct()\n",
    "unique_users_paid = [row.userId for row in unique_users_paid.collect()]\n",
    "\n",
    "# helper function for labeling\n",
    "user_paid = udf(lambda x: 1 if x in unique_users_paid else 0, IntegerType())\n",
    "\n",
    "# next we create a new column to distinguish between user paid = 1 vs free = 0\n",
    "df = df.withColumn('user_paid', user_paid('userId'))\n",
    "    "
   ]
  },
  {
   "cell_type": "code",
   "execution_count": 35,
   "metadata": {},
   "outputs": [],
   "source": [
    "# this broke somehow, had to re-import\n",
    "from pyspark.sql.functions import col"
   ]
  },
  {
   "cell_type": "code",
   "execution_count": 36,
   "metadata": {},
   "outputs": [
    {
     "name": "stdout",
     "output_type": "stream",
     "text": [
      "+---------+-----+-------+\n",
      "|user_paid|count|percent|\n",
      "+---------+-----+-------+\n",
      "|        1|  165|   0.73|\n",
      "|        0|   60|   0.27|\n",
      "+---------+-----+-------+\n",
      "\n",
      "+---------+------+-------+\n",
      "|user_paid| count|percent|\n",
      "+---------+------+-------+\n",
      "|        1|264680|   0.95|\n",
      "|        0| 13474|   0.05|\n",
      "+---------+------+-------+\n",
      "\n"
     ]
    }
   ],
   "source": [
    "# group values for user and paid / free\n",
    "# https://stackoverflow.com/questions/43968946/calculating-percentages-on-a-pyspark-dataframe/46479716\n",
    "\n",
    "df.select('userId', 'user_paid').distinct().groupBy('user_paid').count()\\\n",
    "    .withColumn('percent', round(col('count') / sum('count')\\\n",
    "    .over(Window.partitionBy()), 2)).show()\n",
    "\n",
    "df.select('userId', 'user_paid').groupBy('user_paid').count()\\\n",
    "    .withColumn('percent', round(col('count') / sum('count')\\\n",
    "    .over(Window.partitionBy()), 2)).show()"
   ]
  },
  {
   "cell_type": "code",
   "execution_count": 37,
   "metadata": {},
   "outputs": [],
   "source": [
    "# 73% of users had an paid subscription at least once, and make up for 95% of all logged events"
   ]
  },
  {
   "cell_type": "code",
   "execution_count": 38,
   "metadata": {},
   "outputs": [
    {
     "data": {
      "image/png": "[encoded data removed]",
      "text/plain": [
       "<Figure size 432x288 with 1 Axes>"
      ]
     },
     "metadata": {
      "needs_background": "light"
     },
     "output_type": "display_data"
    }
   ],
   "source": [
    "# visualize paid vs free accounts\n",
    "df_level_pd = df.select('userId', 'user_paid').distinct().groupBy('user_paid').count().toPandas()\n",
    "\n",
    "df_level_pd['count'].plot(kind='bar');\n",
    "plt.title('paid vs free accounts')\n",
    "plt.xlabel(['paid', 'free'])\n",
    "plt.ylabel('User Count');"
   ]
  },
  {
   "cell_type": "markdown",
   "metadata": {},
   "source": [
    "<b>Users by Gender"
   ]
  },
  {
   "cell_type": "code",
   "execution_count": 39,
   "metadata": {
    "scrolled": true
   },
   "outputs": [
    {
     "name": "stdout",
     "output_type": "stream",
     "text": [
      "+------+-----+-------+\n",
      "|gender|count|percent|\n",
      "+------+-----+-------+\n",
      "|     F|  104|   0.46|\n",
      "|     M|  121|   0.54|\n",
      "+------+-----+-------+\n",
      "\n"
     ]
    }
   ],
   "source": [
    "# distribution by gender\n",
    "df.select('userId', 'gender').distinct().groupBy('gender').count()\\\n",
    "    .withColumn('percent', round(col('count') / sum('count')\\\n",
    "    .over(Window.partitionBy()), 2)).show()"
   ]
  },
  {
   "cell_type": "code",
   "execution_count": 40,
   "metadata": {},
   "outputs": [],
   "source": [
    "# distribution between male and female is quite normal with slightly more unique male users"
   ]
  },
  {
   "cell_type": "code",
   "execution_count": 41,
   "metadata": {},
   "outputs": [
    {
     "data": {
      "image/png": "[encoded data removed]",
      "text/plain": [
       "<Figure size 432x288 with 1 Axes>"
      ]
     },
     "metadata": {
      "needs_background": "light"
     },
     "output_type": "display_data"
    }
   ],
   "source": [
    "# plot gender distribution\n",
    "df_gender_pd = df.select('userId', 'gender').distinct().groupBy('gender').count().toPandas()\n",
    "\n",
    "df_gender_pd.plot(kind='bar',  x='gender', label=False)\n",
    "plt.title('user by gender')\n",
    "plt.ylabel('User Count');"
   ]
  },
  {
   "cell_type": "code",
   "execution_count": 42,
   "metadata": {},
   "outputs": [],
   "source": [
    "# calculate churn based on gender\n",
    "# first, get a list of user ids who churned\n",
    "churned_users = df.select('userId').where(df.churn == 1)\n",
    "churned_users = [row.userId for row in churned_users.collect()]"
   ]
  },
  {
   "cell_type": "code",
   "execution_count": 43,
   "metadata": {},
   "outputs": [],
   "source": [
    "# filter out user ids that are not in churn list and group by churn and gender\n",
    "df1 = df.select(\"userId\", \"gender\", 'churn').filter(~df.userId.isin(churned_users)).distinct().groupBy([\"churn\", \"gender\"]).count().sort('churn')"
   ]
  },
  {
   "cell_type": "code",
   "execution_count": 44,
   "metadata": {},
   "outputs": [],
   "source": [
    "# select churend users in a second df and group by churn and gender\n",
    "df2 = df.select(\"userId\", \"gender\", 'churn').where(df.churn == 1).groupBy([\"churn\", \"gender\"]).count().sort('churn')"
   ]
  },
  {
   "cell_type": "code",
   "execution_count": 45,
   "metadata": {},
   "outputs": [],
   "source": [
    "# concatenate both results\n",
    "df_gender_churn = df1.union(df2)\n",
    "df_male_churn = df_gender_churn.where(df_gender_churn.gender == 'M')\n",
    "df_female_churn = df_gender_churn.where(df_gender_churn.gender == 'F')"
   ]
  },
  {
   "cell_type": "code",
   "execution_count": 46,
   "metadata": {},
   "outputs": [
    {
     "name": "stdout",
     "output_type": "stream",
     "text": [
      "+-----+------+-----+-------+\n",
      "|churn|gender|count|percent|\n",
      "+-----+------+-----+-------+\n",
      "|    0|     M|   89|    0.4|\n",
      "|    0|     F|   84|   0.37|\n",
      "|    1|     F|   20|   0.09|\n",
      "|    1|     M|   32|   0.14|\n",
      "+-----+------+-----+-------+\n",
      "\n",
      "+-----+------+-----+-------+\n",
      "|churn|gender|count|percent|\n",
      "+-----+------+-----+-------+\n",
      "|    0|     M|   89|   0.74|\n",
      "|    1|     M|   32|   0.26|\n",
      "+-----+------+-----+-------+\n",
      "\n",
      "+-----+------+-----+-------+\n",
      "|churn|gender|count|percent|\n",
      "+-----+------+-----+-------+\n",
      "|    0|     F|   84|   0.81|\n",
      "|    1|     F|   20|   0.19|\n",
      "+-----+------+-----+-------+\n",
      "\n"
     ]
    }
   ],
   "source": [
    "# add percent column\n",
    "df_gender_churn = df_gender_churn\\\n",
    "    .withColumn('percent', round(col('count') / sum('count')\\\n",
    "    .over(Window.partitionBy()), 2))\n",
    "\n",
    "# male only chrun ratio\n",
    "df_male_churn = df_male_churn\\\n",
    "    .withColumn('percent', round(col('count') / sum('count')\\\n",
    "    .over(Window.partitionBy()), 2))\n",
    "\n",
    "# female only churn ratio\n",
    "df_female_churn = df_female_churn\\\n",
    "    .withColumn('percent', round(col('count') / sum('count')\\\n",
    "    .over(Window.partitionBy()), 2))\n",
    "\n",
    "df_gender_churn.show()\n",
    "df_male_churn.show()\n",
    "df_female_churn.show()"
   ]
  },
  {
   "cell_type": "code",
   "execution_count": 47,
   "metadata": {},
   "outputs": [],
   "source": [
    "# slightly higher churn rate for male (26%) than for female users (19%)"
   ]
  },
  {
   "cell_type": "code",
   "execution_count": 48,
   "metadata": {
    "scrolled": true
   },
   "outputs": [
    {
     "data": {
      "image/png": "[encoded data removed]",
      "text/plain": [
       "<Figure size 432x288 with 1 Axes>"
      ]
     },
     "metadata": {
      "needs_background": "light"
     },
     "output_type": "display_data"
    }
   ],
   "source": [
    "# visualize churn by gender\n",
    "df_gender_churn_pd = df_gender_churn.toPandas()\n",
    "\n",
    "df_gender_churn_pd[['churn', 'gender', 'count']].groupby(['churn', 'gender']).sum().unstack().plot(kind='bar')\n",
    "plt.title('Churn by Gender')\n",
    "plt.ylabel('User Count')\n",
    "plt.legend(title='Gender', labels=['Female', 'Male'], loc='best');"
   ]
  },
  {
   "cell_type": "code",
   "execution_count": 49,
   "metadata": {},
   "outputs": [],
   "source": [
    "# to make filtering on churned vs non churned / retained users easier, we add a column churn_user to the dateframe.\n",
    "# this is based on the previous created list churned_users\n",
    "\n",
    "label_churn_user = udf(lambda x: 1 if x in churned_users else 0, IntegerType())\n",
    "\n",
    "df = df.withColumn('churn_user', label_churn_user('userId'))"
   ]
  },
  {
   "cell_type": "code",
   "execution_count": 50,
   "metadata": {},
   "outputs": [],
   "source": [
    "# convert dataframe to pandas for visualization\n",
    "df_pd = df.toPandas()"
   ]
  },
  {
   "cell_type": "markdown",
   "metadata": {},
   "source": [
    "<b>Location"
   ]
  },
  {
   "cell_type": "code",
   "execution_count": 51,
   "metadata": {},
   "outputs": [
    {
     "data": {
      "text/html": [
       "<div>\n",
       "<style scoped>\n",
       "    .dataframe tbody tr th:only-of-type {\n",
       "        vertical-align: middle;\n",
       "    }\n",
       "\n",
       "    .dataframe tbody tr th {\n",
       "        vertical-align: top;\n",
       "    }\n",
       "\n",
       "    .dataframe thead th {\n",
       "        text-align: right;\n",
       "    }\n",
       "</style>\n",
       "<table border=\"1\" class=\"dataframe\">\n",
       "  <thead>\n",
       "    <tr style=\"text-align: right;\">\n",
       "      <th>churn_user</th>\n",
       "      <th>0</th>\n",
       "      <th>1</th>\n",
       "    </tr>\n",
       "    <tr>\n",
       "      <th>state</th>\n",
       "      <th></th>\n",
       "      <th></th>\n",
       "    </tr>\n",
       "  </thead>\n",
       "  <tbody>\n",
       "    <tr>\n",
       "      <th>CA</th>\n",
       "      <td>27.0</td>\n",
       "      <td>6.0</td>\n",
       "    </tr>\n",
       "    <tr>\n",
       "      <th>NY-NJ-PA</th>\n",
       "      <td>10.0</td>\n",
       "      <td>5.0</td>\n",
       "    </tr>\n",
       "    <tr>\n",
       "      <th>FL</th>\n",
       "      <td>11.0</td>\n",
       "      <td>3.0</td>\n",
       "    </tr>\n",
       "    <tr>\n",
       "      <th>MI</th>\n",
       "      <td>2.0</td>\n",
       "      <td>3.0</td>\n",
       "    </tr>\n",
       "    <tr>\n",
       "      <th>TX</th>\n",
       "      <td>13.0</td>\n",
       "      <td>3.0</td>\n",
       "    </tr>\n",
       "    <tr>\n",
       "      <th>KY</th>\n",
       "      <td>1.0</td>\n",
       "      <td>2.0</td>\n",
       "    </tr>\n",
       "    <tr>\n",
       "      <th>PA-NJ-DE-MD</th>\n",
       "      <td>3.0</td>\n",
       "      <td>2.0</td>\n",
       "    </tr>\n",
       "    <tr>\n",
       "      <th>AZ</th>\n",
       "      <td>5.0</td>\n",
       "      <td>2.0</td>\n",
       "    </tr>\n",
       "    <tr>\n",
       "      <th>CO</th>\n",
       "      <td>2.0</td>\n",
       "      <td>2.0</td>\n",
       "    </tr>\n",
       "    <tr>\n",
       "      <th>OH</th>\n",
       "      <td>1.0</td>\n",
       "      <td>2.0</td>\n",
       "    </tr>\n",
       "  </tbody>\n",
       "</table>\n",
       "</div>"
      ],
      "text/plain": [
       "churn_user      0    1\n",
       "state                 \n",
       "CA           27.0  6.0\n",
       "NY-NJ-PA     10.0  5.0\n",
       "FL           11.0  3.0\n",
       "MI            2.0  3.0\n",
       "TX           13.0  3.0\n",
       "KY            1.0  2.0\n",
       "PA-NJ-DE-MD   3.0  2.0\n",
       "AZ            5.0  2.0\n",
       "CO            2.0  2.0\n",
       "OH            1.0  2.0"
      ]
     },
     "execution_count": 51,
     "metadata": {},
     "output_type": "execute_result"
    }
   ],
   "source": [
    "df_pd.drop_duplicates(subset=['userId']).groupby(['state', 'churn_user'])['userId'].count()\\\n",
    "    .unstack().fillna(0).sort_values(by=[1], ascending=False).head(10)"
   ]
  },
  {
   "cell_type": "code",
   "execution_count": 52,
   "metadata": {
    "scrolled": false
   },
   "outputs": [
    {
     "data": {
      "image/png": "[encoded data removed]",
      "text/plain": [
       "<Figure size 720x1440 with 1 Axes>"
      ]
     },
     "metadata": {
      "needs_background": "light"
     },
     "output_type": "display_data"
    }
   ],
   "source": [
    "# df_pd_state\n",
    "df_pd.drop_duplicates(subset=['userId']).groupby(['state', 'churn_user'])['userId'].count()\\\n",
    "    .unstack().fillna(0).sort_values(by=[1], ascending=True)\\\n",
    "    .plot(kind='barh', figsize=(10, 20));\n",
    "\n",
    "plt.title('');\n",
    "plt.ylabel('User Count');\n",
    "plt.legend(title='', labels=['Not Churned', 'Churned'], loc='upper right');\n",
    "plt.title('Users by Location');"
   ]
  },
  {
   "cell_type": "code",
   "execution_count": 53,
   "metadata": {},
   "outputs": [
    {
     "data": {
      "image/png": "[encoded data removed]",
      "text/plain": [
       "<Figure size 720x1440 with 1 Axes>"
      ]
     },
     "metadata": {
      "needs_background": "light"
     },
     "output_type": "display_data"
    }
   ],
   "source": [
    "# df_pd_state\n",
    "df_pd.drop_duplicates(subset=['userId']).groupby(['state'])['churn_user'].mean()\\\n",
    "    .fillna(0).sort_values(ascending=True)\\\n",
    "    .plot(kind='barh', figsize=(10, 20));\n",
    "\n",
    "plt.title('');\n",
    "plt.ylabel('User Count');\n",
    "#plt.legend(title='', labels=['Not Churned', 'Churned'], loc='upper right');"
   ]
  },
  {
   "cell_type": "code",
   "execution_count": 54,
   "metadata": {},
   "outputs": [],
   "source": [
    "# location"
   ]
  },
  {
   "cell_type": "markdown",
   "metadata": {},
   "source": [
    "<b>Browser, System and Device</b>"
   ]
  },
  {
   "cell_type": "code",
   "execution_count": 55,
   "metadata": {
    "scrolled": true
   },
   "outputs": [
    {
     "data": {
      "image/png": "[encoded data removed]",
      "text/plain": [
       "<Figure size 432x288 with 1 Axes>"
      ]
     },
     "metadata": {},
     "output_type": "display_data"
    }
   ],
   "source": [
    "# \n",
    "df_pd.drop_duplicates(subset=['userId'])['browser'].value_counts().sort_values(ascending=True)\\\n",
    "    .plot(kind='pie', autopct='%1.1f%%', startangle=0);"
   ]
  },
  {
   "cell_type": "code",
   "execution_count": 56,
   "metadata": {},
   "outputs": [
    {
     "data": {
      "image/png": "[encoded data removed]",
      "text/plain": [
       "<Figure size 432x288 with 1 Axes>"
      ]
     },
     "metadata": {
      "needs_background": "light"
     },
     "output_type": "display_data"
    }
   ],
   "source": [
    "# churn by browser\n",
    "df_pd.drop_duplicates(subset=['userId']).groupby(['browser'])['churn_user'].mean()\\\n",
    "    .fillna(0).sort_values(ascending=True)\\\n",
    "    .plot(kind='barh');\n",
    "\n",
    "plt.title('Churn Rate by Browser');\n",
    "plt.ylabel('User Count');\n",
    "#plt.legend(title='', labels=['Not Churned', 'Churned'], loc='upper right');"
   ]
  },
  {
   "cell_type": "code",
   "execution_count": 57,
   "metadata": {},
   "outputs": [
    {
     "data": {
      "image/png": "[encoded data removed]",
      "text/plain": [
       "<Figure size 432x288 with 1 Axes>"
      ]
     },
     "metadata": {},
     "output_type": "display_data"
    }
   ],
   "source": [
    "# operating system\n",
    "df_pd.drop_duplicates(subset=['userId'])['operating_system'].value_counts().sort_values(ascending=True)\\\n",
    "    .plot(kind='pie', autopct='%1.1f%%');"
   ]
  },
  {
   "cell_type": "code",
   "execution_count": 58,
   "metadata": {},
   "outputs": [
    {
     "data": {
      "image/png": "[encoded data removed]",
      "text/plain": [
       "<Figure size 432x288 with 1 Axes>"
      ]
     },
     "metadata": {
      "needs_background": "light"
     },
     "output_type": "display_data"
    }
   ],
   "source": [
    "# churn by operating system\n",
    "df_pd.drop_duplicates(subset=['userId']).groupby(['operating_system'])['churn_user'].mean()\\\n",
    "    .sort_values(ascending=True)\\\n",
    "    .plot(kind='barh');\n",
    "\n",
    "plt.title('Churn Rate by OS');\n",
    "#plt.ylabel('User Count');\n",
    "#plt.legend(title='', labels=['Not Churned', 'Churned'], loc='upper right');"
   ]
  },
  {
   "cell_type": "code",
   "execution_count": null,
   "metadata": {},
   "outputs": [],
   "source": []
  },
  {
   "cell_type": "code",
   "execution_count": 59,
   "metadata": {},
   "outputs": [],
   "source": [
    "# churn by device"
   ]
  },
  {
   "cell_type": "code",
   "execution_count": 60,
   "metadata": {},
   "outputs": [
    {
     "data": {
      "image/png": "[encoded data removed]",
      "text/plain": [
       "<Figure size 432x288 with 1 Axes>"
      ]
     },
     "metadata": {},
     "output_type": "display_data"
    }
   ],
   "source": [
    "# device\n",
    "df_pd.drop_duplicates(subset=['userId'])['device_type'].value_counts().sort_values(ascending=True)\\\n",
    "    .plot(kind='pie', autopct='%1.1f%%');"
   ]
  },
  {
   "cell_type": "code",
   "execution_count": 61,
   "metadata": {},
   "outputs": [
    {
     "data": {
      "image/png": "[encoded data removed]",
      "text/plain": [
       "<Figure size 432x288 with 1 Axes>"
      ]
     },
     "metadata": {
      "needs_background": "light"
     },
     "output_type": "display_data"
    }
   ],
   "source": [
    "# churn by device\n",
    "df_pd.drop_duplicates(subset=['userId']).groupby(['device_type'])['churn_user'].mean()\\\n",
    "    .sort_values(ascending=True)\\\n",
    "    .plot(kind='barh');\n",
    "\n",
    "plt.title('Churn Rate by Device');\n",
    "#plt.ylabel('User Count');\n",
    "#plt.legend(title='', labels=['Not Churned', 'Churned'], loc='upper right');"
   ]
  },
  {
   "cell_type": "code",
   "execution_count": 62,
   "metadata": {},
   "outputs": [
    {
     "data": {
      "text/html": [
       "<div>\n",
       "<style scoped>\n",
       "    .dataframe tbody tr th:only-of-type {\n",
       "        vertical-align: middle;\n",
       "    }\n",
       "\n",
       "    .dataframe tbody tr th {\n",
       "        vertical-align: top;\n",
       "    }\n",
       "\n",
       "    .dataframe thead th {\n",
       "        text-align: right;\n",
       "    }\n",
       "</style>\n",
       "<table border=\"1\" class=\"dataframe\">\n",
       "  <thead>\n",
       "    <tr style=\"text-align: right;\">\n",
       "      <th></th>\n",
       "      <th>itemInSession</th>\n",
       "      <th>length</th>\n",
       "      <th>registration</th>\n",
       "      <th>sessionId</th>\n",
       "      <th>status</th>\n",
       "      <th>ts</th>\n",
       "      <th>churn</th>\n",
       "      <th>user_paid</th>\n",
       "      <th>churn_user</th>\n",
       "    </tr>\n",
       "    <tr>\n",
       "      <th>device_type</th>\n",
       "      <th></th>\n",
       "      <th></th>\n",
       "      <th></th>\n",
       "      <th></th>\n",
       "      <th></th>\n",
       "      <th></th>\n",
       "      <th></th>\n",
       "      <th></th>\n",
       "      <th></th>\n",
       "    </tr>\n",
       "  </thead>\n",
       "  <tbody>\n",
       "    <tr>\n",
       "      <th>Mobile</th>\n",
       "      <td>0.000000</td>\n",
       "      <td>236.024582</td>\n",
       "      <td>1.535171e+12</td>\n",
       "      <td>89.615385</td>\n",
       "      <td>200.0</td>\n",
       "      <td>1.539158e+12</td>\n",
       "      <td>0.0</td>\n",
       "      <td>0.615385</td>\n",
       "      <td>0.307692</td>\n",
       "    </tr>\n",
       "    <tr>\n",
       "      <th>Pc</th>\n",
       "      <td>1.023923</td>\n",
       "      <td>246.377865</td>\n",
       "      <td>1.535588e+12</td>\n",
       "      <td>140.062201</td>\n",
       "      <td>200.0</td>\n",
       "      <td>1.538887e+12</td>\n",
       "      <td>0.0</td>\n",
       "      <td>0.736842</td>\n",
       "      <td>0.229665</td>\n",
       "    </tr>\n",
       "    <tr>\n",
       "      <th>Tablet</th>\n",
       "      <td>2.000000</td>\n",
       "      <td>283.898320</td>\n",
       "      <td>1.538403e+12</td>\n",
       "      <td>581.666667</td>\n",
       "      <td>200.0</td>\n",
       "      <td>1.539353e+12</td>\n",
       "      <td>0.0</td>\n",
       "      <td>1.000000</td>\n",
       "      <td>0.000000</td>\n",
       "    </tr>\n",
       "  </tbody>\n",
       "</table>\n",
       "</div>"
      ],
      "text/plain": [
       "             itemInSession      length  registration   sessionId  status  \\\n",
       "device_type                                                                \n",
       "Mobile            0.000000  236.024582  1.535171e+12   89.615385   200.0   \n",
       "Pc                1.023923  246.377865  1.535588e+12  140.062201   200.0   \n",
       "Tablet            2.000000  283.898320  1.538403e+12  581.666667   200.0   \n",
       "\n",
       "                       ts  churn  user_paid  churn_user  \n",
       "device_type                                              \n",
       "Mobile       1.539158e+12    0.0   0.615385    0.307692  \n",
       "Pc           1.538887e+12    0.0   0.736842    0.229665  \n",
       "Tablet       1.539353e+12    0.0   1.000000    0.000000  "
      ]
     },
     "execution_count": 62,
     "metadata": {},
     "output_type": "execute_result"
    }
   ],
   "source": [
    "df_pd.drop_duplicates(subset=['userId']).groupby('device_type').mean()"
   ]
  },
  {
   "cell_type": "code",
   "execution_count": 63,
   "metadata": {
    "scrolled": true
   },
   "outputs": [
    {
     "data": {
      "image/png": "[encoded data removed]",
      "text/plain": [
       "<Figure size 432x288 with 1 Axes>"
      ]
     },
     "metadata": {},
     "output_type": "display_data"
    }
   ],
   "source": [
    "# device family\n",
    "df_pd.drop_duplicates(subset=['userId'])['device_family'].value_counts().sort_values(ascending=True)\\\n",
    "    .plot(kind='pie', autopct='%1.1f%%');"
   ]
  },
  {
   "cell_type": "code",
   "execution_count": 64,
   "metadata": {},
   "outputs": [
    {
     "data": {
      "image/png": "[encoded data removed]",
      "text/plain": [
       "<Figure size 432x288 with 1 Axes>"
      ]
     },
     "metadata": {
      "needs_background": "light"
     },
     "output_type": "display_data"
    }
   ],
   "source": [
    "# churn by device family\n",
    "df_pd.drop_duplicates(subset=['userId']).groupby(['device_family'])['churn_user'].mean()\\\n",
    "    .sort_values(ascending=True)\\\n",
    "    .plot(kind='barh');\n",
    "\n",
    "plt.title('');\n",
    "#plt.ylabel('User Count');\n",
    "#plt.legend(title='', labels=['Not Churned', 'Churned'], loc='upper right');"
   ]
  },
  {
   "cell_type": "code",
   "execution_count": 65,
   "metadata": {},
   "outputs": [
    {
     "data": {
      "text/html": [
       "<div>\n",
       "<style scoped>\n",
       "    .dataframe tbody tr th:only-of-type {\n",
       "        vertical-align: middle;\n",
       "    }\n",
       "\n",
       "    .dataframe tbody tr th {\n",
       "        vertical-align: top;\n",
       "    }\n",
       "\n",
       "    .dataframe thead th {\n",
       "        text-align: right;\n",
       "    }\n",
       "</style>\n",
       "<table border=\"1\" class=\"dataframe\">\n",
       "  <thead>\n",
       "    <tr style=\"text-align: right;\">\n",
       "      <th></th>\n",
       "      <th>itemInSession</th>\n",
       "      <th>length</th>\n",
       "      <th>registration</th>\n",
       "      <th>sessionId</th>\n",
       "      <th>status</th>\n",
       "      <th>ts</th>\n",
       "      <th>churn</th>\n",
       "      <th>user_paid</th>\n",
       "      <th>churn_user</th>\n",
       "    </tr>\n",
       "    <tr>\n",
       "      <th>device_family</th>\n",
       "      <th></th>\n",
       "      <th></th>\n",
       "      <th></th>\n",
       "      <th></th>\n",
       "      <th></th>\n",
       "      <th></th>\n",
       "      <th></th>\n",
       "      <th></th>\n",
       "      <th></th>\n",
       "    </tr>\n",
       "  </thead>\n",
       "  <tbody>\n",
       "    <tr>\n",
       "      <th>Mac</th>\n",
       "      <td>0.255814</td>\n",
       "      <td>233.242714</td>\n",
       "      <td>1.535519e+12</td>\n",
       "      <td>105.372093</td>\n",
       "      <td>200.0</td>\n",
       "      <td>1.538884e+12</td>\n",
       "      <td>0.0</td>\n",
       "      <td>0.697674</td>\n",
       "      <td>0.220930</td>\n",
       "    </tr>\n",
       "    <tr>\n",
       "      <th>Other</th>\n",
       "      <td>1.560976</td>\n",
       "      <td>259.513016</td>\n",
       "      <td>1.535636e+12</td>\n",
       "      <td>164.317073</td>\n",
       "      <td>200.0</td>\n",
       "      <td>1.538889e+12</td>\n",
       "      <td>0.0</td>\n",
       "      <td>0.764228</td>\n",
       "      <td>0.235772</td>\n",
       "    </tr>\n",
       "    <tr>\n",
       "      <th>iPad</th>\n",
       "      <td>2.000000</td>\n",
       "      <td>283.898320</td>\n",
       "      <td>1.538403e+12</td>\n",
       "      <td>581.666667</td>\n",
       "      <td>200.0</td>\n",
       "      <td>1.539353e+12</td>\n",
       "      <td>0.0</td>\n",
       "      <td>1.000000</td>\n",
       "      <td>0.000000</td>\n",
       "    </tr>\n",
       "    <tr>\n",
       "      <th>iPhone</th>\n",
       "      <td>0.000000</td>\n",
       "      <td>236.024582</td>\n",
       "      <td>1.535171e+12</td>\n",
       "      <td>89.615385</td>\n",
       "      <td>200.0</td>\n",
       "      <td>1.539158e+12</td>\n",
       "      <td>0.0</td>\n",
       "      <td>0.615385</td>\n",
       "      <td>0.307692</td>\n",
       "    </tr>\n",
       "  </tbody>\n",
       "</table>\n",
       "</div>"
      ],
      "text/plain": [
       "               itemInSession      length  registration   sessionId  status  \\\n",
       "device_family                                                                \n",
       "Mac                 0.255814  233.242714  1.535519e+12  105.372093   200.0   \n",
       "Other               1.560976  259.513016  1.535636e+12  164.317073   200.0   \n",
       "iPad                2.000000  283.898320  1.538403e+12  581.666667   200.0   \n",
       "iPhone              0.000000  236.024582  1.535171e+12   89.615385   200.0   \n",
       "\n",
       "                         ts  churn  user_paid  churn_user  \n",
       "device_family                                              \n",
       "Mac            1.538884e+12    0.0   0.697674    0.220930  \n",
       "Other          1.538889e+12    0.0   0.764228    0.235772  \n",
       "iPad           1.539353e+12    0.0   1.000000    0.000000  \n",
       "iPhone         1.539158e+12    0.0   0.615385    0.307692  "
      ]
     },
     "execution_count": 65,
     "metadata": {},
     "output_type": "execute_result"
    }
   ],
   "source": [
    "df_pd.drop_duplicates(subset=['userId']).groupby('device_family').mean()"
   ]
  },
  {
   "cell_type": "markdown",
   "metadata": {},
   "source": [
    "<b>Artist"
   ]
  },
  {
   "cell_type": "code",
   "execution_count": 66,
   "metadata": {},
   "outputs": [
    {
     "name": "stderr",
     "output_type": "stream",
     "text": [
      "c:\\python37-32\\lib\\site-packages\\matplotlib\\backends\\backend_agg.py:211: RuntimeWarning: Glyph 131 missing from current font.\n",
      "  font.set_text(s, 0.0, flags=flags)\n",
      "c:\\python37-32\\lib\\site-packages\\matplotlib\\backends\\backend_agg.py:180: RuntimeWarning: Glyph 131 missing from current font.\n",
      "  font.set_text(s, 0, flags=flags)\n"
     ]
    },
    {
     "data": {
      "image/png": "[encoded data removed]",
      "text/plain": [
       "<Figure size 432x288 with 1 Axes>"
      ]
     },
     "metadata": {
      "needs_background": "light"
     },
     "output_type": "display_data"
    }
   ],
   "source": [
    "# top 10 artists by\n",
    "df_pd.groupby('artist')['artist'].count().sort_values(ascending=True).tail(10).plot(kind='barh');"
   ]
  },
  {
   "cell_type": "markdown",
   "metadata": {},
   "source": [
    "<b> Distibution of Data"
   ]
  },
  {
   "cell_type": "code",
   "execution_count": 67,
   "metadata": {},
   "outputs": [
    {
     "data": {
      "image/png": "[encoded data removed]",
      "text/plain": [
       "<Figure size 720x576 with 2 Axes>"
      ]
     },
     "metadata": {
      "needs_background": "light"
     },
     "output_type": "display_data"
    }
   ],
   "source": [
    "# correlation matrix for numeric columns\n",
    "fig, ax = plt.subplots(figsize=(10, 8))\n",
    "sns.heatmap(df_pd.corr(), annot=True, ax=ax)\n",
    "plt.show()"
   ]
  },
  {
   "cell_type": "code",
   "execution_count": 68,
   "metadata": {},
   "outputs": [],
   "source": [
    "# divide data set into churned users and users who did not churn\n",
    "df_pd_churned = df_pd[df_pd.churn_user == 1]\n",
    "df_pd_notchurned = df_pd[df_pd.churn_user == 0]"
   ]
  },
  {
   "cell_type": "code",
   "execution_count": 69,
   "metadata": {},
   "outputs": [
    {
     "name": "stdout",
     "output_type": "stream",
     "text": [
      "(44864, 30)\n",
      "(233290, 30)\n"
     ]
    }
   ],
   "source": [
    "# imbalance in data\n",
    "print(df_pd_churned.shape)\n",
    "print(df_pd_notchurned.shape)"
   ]
  },
  {
   "cell_type": "code",
   "execution_count": 70,
   "metadata": {},
   "outputs": [
    {
     "data": {
      "image/png": "[encoded data removed]",
      "text/plain": [
       "<Figure size 1800x1080 with 9 Axes>"
      ]
     },
     "metadata": {
      "needs_background": "light"
     },
     "output_type": "display_data"
    }
   ],
   "source": [
    "# use the histogram visualization to get some insights\n",
    "df_pd_notchurned.hist(figsize=(25, 15), color='green');"
   ]
  },
  {
   "cell_type": "code",
   "execution_count": 71,
   "metadata": {
    "scrolled": false
   },
   "outputs": [
    {
     "data": {
      "image/png": "[encoded data removed]",
      "text/plain": [
       "<Figure size 1800x1080 with 9 Axes>"
      ]
     },
     "metadata": {
      "needs_background": "light"
     },
     "output_type": "display_data"
    }
   ],
   "source": [
    "df_pd_churned.hist(figsize=(25, 15), color='red');"
   ]
  },
  {
   "cell_type": "code",
   "execution_count": 72,
   "metadata": {},
   "outputs": [
    {
     "data": {
      "image/png": "[encoded data removed]",
      "text/plain": [
       "<Figure size 432x288 with 1 Axes>"
      ]
     },
     "metadata": {
      "needs_background": "light"
     },
     "output_type": "display_data"
    }
   ],
   "source": [
    "plt.title('registration')\n",
    "plt.hist(df_pd_notchurned.registration, color='green', bins=10);\n",
    "plt.hist(df_pd_churned.registration, color='red', bins=10);"
   ]
  },
  {
   "cell_type": "code",
   "execution_count": 73,
   "metadata": {},
   "outputs": [],
   "source": [
    "# far more events from unchurned users than from churned users -> concentrate on relative values"
   ]
  },
  {
   "cell_type": "markdown",
   "metadata": {},
   "source": [
    "<b>Page Visits"
   ]
  },
  {
   "cell_type": "code",
   "execution_count": 74,
   "metadata": {},
   "outputs": [
    {
     "data": {
      "text/html": [
       "<div>\n",
       "<style scoped>\n",
       "    .dataframe tbody tr th:only-of-type {\n",
       "        vertical-align: middle;\n",
       "    }\n",
       "\n",
       "    .dataframe tbody tr th {\n",
       "        vertical-align: top;\n",
       "    }\n",
       "\n",
       "    .dataframe thead th {\n",
       "        text-align: right;\n",
       "    }\n",
       "</style>\n",
       "<table border=\"1\" class=\"dataframe\">\n",
       "  <thead>\n",
       "    <tr style=\"text-align: right;\">\n",
       "      <th></th>\n",
       "      <th>artist</th>\n",
       "      <th>auth</th>\n",
       "      <th>firstName</th>\n",
       "      <th>gender</th>\n",
       "      <th>itemInSession</th>\n",
       "      <th>lastName</th>\n",
       "      <th>length</th>\n",
       "      <th>level</th>\n",
       "      <th>location</th>\n",
       "      <th>method</th>\n",
       "      <th>...</th>\n",
       "      <th>city</th>\n",
       "      <th>state</th>\n",
       "      <th>browser</th>\n",
       "      <th>operating_system</th>\n",
       "      <th>device_type</th>\n",
       "      <th>device_family</th>\n",
       "      <th>device_model</th>\n",
       "      <th>churn</th>\n",
       "      <th>user_paid</th>\n",
       "      <th>churn_user</th>\n",
       "    </tr>\n",
       "    <tr>\n",
       "      <th>page</th>\n",
       "      <th></th>\n",
       "      <th></th>\n",
       "      <th></th>\n",
       "      <th></th>\n",
       "      <th></th>\n",
       "      <th></th>\n",
       "      <th></th>\n",
       "      <th></th>\n",
       "      <th></th>\n",
       "      <th></th>\n",
       "      <th></th>\n",
       "      <th></th>\n",
       "      <th></th>\n",
       "      <th></th>\n",
       "      <th></th>\n",
       "      <th></th>\n",
       "      <th></th>\n",
       "      <th></th>\n",
       "      <th></th>\n",
       "      <th></th>\n",
       "      <th></th>\n",
       "    </tr>\n",
       "  </thead>\n",
       "  <tbody>\n",
       "    <tr>\n",
       "      <th>About</th>\n",
       "      <td>0</td>\n",
       "      <td>56</td>\n",
       "      <td>56</td>\n",
       "      <td>56</td>\n",
       "      <td>56</td>\n",
       "      <td>56</td>\n",
       "      <td>0</td>\n",
       "      <td>56</td>\n",
       "      <td>56</td>\n",
       "      <td>56</td>\n",
       "      <td>...</td>\n",
       "      <td>56</td>\n",
       "      <td>56</td>\n",
       "      <td>56</td>\n",
       "      <td>56</td>\n",
       "      <td>56</td>\n",
       "      <td>56</td>\n",
       "      <td>23</td>\n",
       "      <td>56</td>\n",
       "      <td>56</td>\n",
       "      <td>56</td>\n",
       "    </tr>\n",
       "    <tr>\n",
       "      <th>Add Friend</th>\n",
       "      <td>0</td>\n",
       "      <td>636</td>\n",
       "      <td>636</td>\n",
       "      <td>636</td>\n",
       "      <td>636</td>\n",
       "      <td>636</td>\n",
       "      <td>0</td>\n",
       "      <td>636</td>\n",
       "      <td>636</td>\n",
       "      <td>636</td>\n",
       "      <td>...</td>\n",
       "      <td>636</td>\n",
       "      <td>636</td>\n",
       "      <td>636</td>\n",
       "      <td>636</td>\n",
       "      <td>636</td>\n",
       "      <td>636</td>\n",
       "      <td>251</td>\n",
       "      <td>636</td>\n",
       "      <td>636</td>\n",
       "      <td>636</td>\n",
       "    </tr>\n",
       "    <tr>\n",
       "      <th>Add to Playlist</th>\n",
       "      <td>0</td>\n",
       "      <td>1038</td>\n",
       "      <td>1038</td>\n",
       "      <td>1038</td>\n",
       "      <td>1038</td>\n",
       "      <td>1038</td>\n",
       "      <td>0</td>\n",
       "      <td>1038</td>\n",
       "      <td>1038</td>\n",
       "      <td>1038</td>\n",
       "      <td>...</td>\n",
       "      <td>1038</td>\n",
       "      <td>1038</td>\n",
       "      <td>1038</td>\n",
       "      <td>1038</td>\n",
       "      <td>1038</td>\n",
       "      <td>1038</td>\n",
       "      <td>417</td>\n",
       "      <td>1038</td>\n",
       "      <td>1038</td>\n",
       "      <td>1038</td>\n",
       "    </tr>\n",
       "    <tr>\n",
       "      <th>Cancel</th>\n",
       "      <td>0</td>\n",
       "      <td>52</td>\n",
       "      <td>52</td>\n",
       "      <td>52</td>\n",
       "      <td>52</td>\n",
       "      <td>52</td>\n",
       "      <td>0</td>\n",
       "      <td>52</td>\n",
       "      <td>52</td>\n",
       "      <td>52</td>\n",
       "      <td>...</td>\n",
       "      <td>52</td>\n",
       "      <td>52</td>\n",
       "      <td>52</td>\n",
       "      <td>52</td>\n",
       "      <td>52</td>\n",
       "      <td>52</td>\n",
       "      <td>23</td>\n",
       "      <td>52</td>\n",
       "      <td>52</td>\n",
       "      <td>52</td>\n",
       "    </tr>\n",
       "    <tr>\n",
       "      <th>Cancellation Confirmation</th>\n",
       "      <td>0</td>\n",
       "      <td>52</td>\n",
       "      <td>52</td>\n",
       "      <td>52</td>\n",
       "      <td>52</td>\n",
       "      <td>52</td>\n",
       "      <td>0</td>\n",
       "      <td>52</td>\n",
       "      <td>52</td>\n",
       "      <td>52</td>\n",
       "      <td>...</td>\n",
       "      <td>52</td>\n",
       "      <td>52</td>\n",
       "      <td>52</td>\n",
       "      <td>52</td>\n",
       "      <td>52</td>\n",
       "      <td>52</td>\n",
       "      <td>23</td>\n",
       "      <td>52</td>\n",
       "      <td>52</td>\n",
       "      <td>52</td>\n",
       "    </tr>\n",
       "  </tbody>\n",
       "</table>\n",
       "<p>5 rows × 29 columns</p>\n",
       "</div>"
      ],
      "text/plain": [
       "                           artist  auth  firstName  gender  itemInSession  \\\n",
       "page                                                                        \n",
       "About                           0    56         56      56             56   \n",
       "Add Friend                      0   636        636     636            636   \n",
       "Add to Playlist                 0  1038       1038    1038           1038   \n",
       "Cancel                          0    52         52      52             52   \n",
       "Cancellation Confirmation       0    52         52      52             52   \n",
       "\n",
       "                           lastName  length  level  location  method  ...  \\\n",
       "page                                                                  ...   \n",
       "About                            56       0     56        56      56  ...   \n",
       "Add Friend                      636       0    636       636     636  ...   \n",
       "Add to Playlist                1038       0   1038      1038    1038  ...   \n",
       "Cancel                           52       0     52        52      52  ...   \n",
       "Cancellation Confirmation        52       0     52        52      52  ...   \n",
       "\n",
       "                           city  state  browser  operating_system  \\\n",
       "page                                                                \n",
       "About                        56     56       56                56   \n",
       "Add Friend                  636    636      636               636   \n",
       "Add to Playlist            1038   1038     1038              1038   \n",
       "Cancel                       52     52       52                52   \n",
       "Cancellation Confirmation    52     52       52                52   \n",
       "\n",
       "                           device_type  device_family  device_model  churn  \\\n",
       "page                                                                         \n",
       "About                               56             56            23     56   \n",
       "Add Friend                         636            636           251    636   \n",
       "Add to Playlist                   1038           1038           417   1038   \n",
       "Cancel                              52             52            23     52   \n",
       "Cancellation Confirmation           52             52            23     52   \n",
       "\n",
       "                           user_paid  churn_user  \n",
       "page                                              \n",
       "About                             56          56  \n",
       "Add Friend                       636         636  \n",
       "Add to Playlist                 1038        1038  \n",
       "Cancel                            52          52  \n",
       "Cancellation Confirmation         52          52  \n",
       "\n",
       "[5 rows x 29 columns]"
      ]
     },
     "execution_count": 74,
     "metadata": {},
     "output_type": "execute_result"
    }
   ],
   "source": [
    "df_pd_churned.groupby('page').count().head() #.sort_values(ascending=True).plot(kind='barh')"
   ]
  },
  {
   "cell_type": "code",
   "execution_count": 75,
   "metadata": {},
   "outputs": [
    {
     "data": {
      "text/html": [
       "<div>\n",
       "<style scoped>\n",
       "    .dataframe tbody tr th:only-of-type {\n",
       "        vertical-align: middle;\n",
       "    }\n",
       "\n",
       "    .dataframe tbody tr th {\n",
       "        vertical-align: top;\n",
       "    }\n",
       "\n",
       "    .dataframe thead th {\n",
       "        text-align: right;\n",
       "    }\n",
       "</style>\n",
       "<table border=\"1\" class=\"dataframe\">\n",
       "  <thead>\n",
       "    <tr style=\"text-align: right;\">\n",
       "      <th></th>\n",
       "      <th>churn_user</th>\n",
       "    </tr>\n",
       "    <tr>\n",
       "      <th>page</th>\n",
       "      <th></th>\n",
       "    </tr>\n",
       "  </thead>\n",
       "  <tbody>\n",
       "    <tr>\n",
       "      <th>Submit Downgrade</th>\n",
       "      <td>9</td>\n",
       "    </tr>\n",
       "    <tr>\n",
       "      <th>Submit Upgrade</th>\n",
       "      <td>32</td>\n",
       "    </tr>\n",
       "    <tr>\n",
       "      <th>Error</th>\n",
       "      <td>32</td>\n",
       "    </tr>\n",
       "    <tr>\n",
       "      <th>Cancel</th>\n",
       "      <td>52</td>\n",
       "    </tr>\n",
       "    <tr>\n",
       "      <th>Cancellation Confirmation</th>\n",
       "      <td>52</td>\n",
       "    </tr>\n",
       "    <tr>\n",
       "      <th>About</th>\n",
       "      <td>56</td>\n",
       "    </tr>\n",
       "    <tr>\n",
       "      <th>Save Settings</th>\n",
       "      <td>58</td>\n",
       "    </tr>\n",
       "    <tr>\n",
       "      <th>Upgrade</th>\n",
       "      <td>112</td>\n",
       "    </tr>\n",
       "    <tr>\n",
       "      <th>Help</th>\n",
       "      <td>239</td>\n",
       "    </tr>\n",
       "    <tr>\n",
       "      <th>Settings</th>\n",
       "      <td>270</td>\n",
       "    </tr>\n",
       "    <tr>\n",
       "      <th>Downgrade</th>\n",
       "      <td>337</td>\n",
       "    </tr>\n",
       "    <tr>\n",
       "      <th>Thumbs Down</th>\n",
       "      <td>496</td>\n",
       "    </tr>\n",
       "    <tr>\n",
       "      <th>Logout</th>\n",
       "      <td>553</td>\n",
       "    </tr>\n",
       "    <tr>\n",
       "      <th>Add Friend</th>\n",
       "      <td>636</td>\n",
       "    </tr>\n",
       "    <tr>\n",
       "      <th>Roll Advert</th>\n",
       "      <td>967</td>\n",
       "    </tr>\n",
       "    <tr>\n",
       "      <th>Add to Playlist</th>\n",
       "      <td>1038</td>\n",
       "    </tr>\n",
       "    <tr>\n",
       "      <th>Home</th>\n",
       "      <td>1672</td>\n",
       "    </tr>\n",
       "    <tr>\n",
       "      <th>Thumbs Up</th>\n",
       "      <td>1859</td>\n",
       "    </tr>\n",
       "    <tr>\n",
       "      <th>NextSong</th>\n",
       "      <td>36394</td>\n",
       "    </tr>\n",
       "  </tbody>\n",
       "</table>\n",
       "</div>"
      ],
      "text/plain": [
       "                           churn_user\n",
       "page                                 \n",
       "Submit Downgrade                    9\n",
       "Submit Upgrade                     32\n",
       "Error                              32\n",
       "Cancel                             52\n",
       "Cancellation Confirmation          52\n",
       "About                              56\n",
       "Save Settings                      58\n",
       "Upgrade                           112\n",
       "Help                              239\n",
       "Settings                          270\n",
       "Downgrade                         337\n",
       "Thumbs Down                       496\n",
       "Logout                            553\n",
       "Add Friend                        636\n",
       "Roll Advert                       967\n",
       "Add to Playlist                  1038\n",
       "Home                             1672\n",
       "Thumbs Up                        1859\n",
       "NextSong                        36394"
      ]
     },
     "execution_count": 75,
     "metadata": {},
     "output_type": "execute_result"
    }
   ],
   "source": [
    "df_pd_churned.groupby('page').agg({'churn_user':'count'}).sort_values(by=['churn_user'], ascending=True)\n",
    "# df_pd_churned.groupby('page').agg({'churn_user':'count'}).sort_values(by=['churn_user'], ascending=True)"
   ]
  },
  {
   "cell_type": "code",
   "execution_count": 76,
   "metadata": {},
   "outputs": [],
   "source": [
    "# all page visits\n",
    "df_page_churned = df_pd_churned.groupby('page').agg({'churn_user':'count'})\n",
    "df_page_notchurned = df_pd_notchurned.groupby('page').agg({'churn_user':'count'})\n",
    "df_page_all = pd.merge(df_page_churned, df_page_notchurned, on='page', suffixes=('_1', '_0'))\n",
    "df_page_all['churn_1%'] = (df_page_all.churn_user_1 / df_page_all.churn_user_1.sum())\n",
    "df_page_all['churn_0%'] = (df_page_all.churn_user_0 / df_page_all.churn_user_0.sum())\n",
    "df_page_all['%_diff'] = abs(df_page_all['churn_1%'] - df_page_all['churn_0%'])\n",
    "df_page_all.sort_values(by=['churn_1%'], inplace=True)\n",
    "# check sums"
   ]
  },
  {
   "cell_type": "code",
   "execution_count": 77,
   "metadata": {},
   "outputs": [
    {
     "data": {
      "text/html": [
       "<div>\n",
       "<style scoped>\n",
       "    .dataframe tbody tr th:only-of-type {\n",
       "        vertical-align: middle;\n",
       "    }\n",
       "\n",
       "    .dataframe tbody tr th {\n",
       "        vertical-align: top;\n",
       "    }\n",
       "\n",
       "    .dataframe thead th {\n",
       "        text-align: right;\n",
       "    }\n",
       "</style>\n",
       "<table border=\"1\" class=\"dataframe\">\n",
       "  <thead>\n",
       "    <tr style=\"text-align: right;\">\n",
       "      <th></th>\n",
       "      <th>churn_user_1</th>\n",
       "      <th>churn_user_0</th>\n",
       "      <th>churn_1%</th>\n",
       "      <th>churn_0%</th>\n",
       "      <th>%_diff</th>\n",
       "    </tr>\n",
       "    <tr>\n",
       "      <th>page</th>\n",
       "      <th></th>\n",
       "      <th></th>\n",
       "      <th></th>\n",
       "      <th></th>\n",
       "      <th></th>\n",
       "    </tr>\n",
       "  </thead>\n",
       "  <tbody>\n",
       "    <tr>\n",
       "      <th>Roll Advert</th>\n",
       "      <td>967</td>\n",
       "      <td>2966</td>\n",
       "      <td>0.021604</td>\n",
       "      <td>0.012714</td>\n",
       "      <td>0.008890</td>\n",
       "    </tr>\n",
       "    <tr>\n",
       "      <th>NextSong</th>\n",
       "      <td>36394</td>\n",
       "      <td>191714</td>\n",
       "      <td>0.813092</td>\n",
       "      <td>0.821784</td>\n",
       "      <td>0.008692</td>\n",
       "    </tr>\n",
       "    <tr>\n",
       "      <th>Thumbs Up</th>\n",
       "      <td>1859</td>\n",
       "      <td>10692</td>\n",
       "      <td>0.041533</td>\n",
       "      <td>0.045831</td>\n",
       "      <td>0.004299</td>\n",
       "    </tr>\n",
       "    <tr>\n",
       "      <th>Thumbs Down</th>\n",
       "      <td>496</td>\n",
       "      <td>2050</td>\n",
       "      <td>0.011081</td>\n",
       "      <td>0.008787</td>\n",
       "      <td>0.002294</td>\n",
       "    </tr>\n",
       "    <tr>\n",
       "      <th>Add Friend</th>\n",
       "      <td>636</td>\n",
       "      <td>3641</td>\n",
       "      <td>0.014209</td>\n",
       "      <td>0.015607</td>\n",
       "      <td>0.001398</td>\n",
       "    </tr>\n",
       "    <tr>\n",
       "      <th>Home</th>\n",
       "      <td>1672</td>\n",
       "      <td>8410</td>\n",
       "      <td>0.037355</td>\n",
       "      <td>0.036050</td>\n",
       "      <td>0.001305</td>\n",
       "    </tr>\n",
       "    <tr>\n",
       "      <th>Logout</th>\n",
       "      <td>553</td>\n",
       "      <td>2673</td>\n",
       "      <td>0.012355</td>\n",
       "      <td>0.011458</td>\n",
       "      <td>0.000897</td>\n",
       "    </tr>\n",
       "    <tr>\n",
       "      <th>Upgrade</th>\n",
       "      <td>112</td>\n",
       "      <td>387</td>\n",
       "      <td>0.002502</td>\n",
       "      <td>0.001659</td>\n",
       "      <td>0.000843</td>\n",
       "    </tr>\n",
       "    <tr>\n",
       "      <th>Settings</th>\n",
       "      <td>270</td>\n",
       "      <td>1244</td>\n",
       "      <td>0.006032</td>\n",
       "      <td>0.005332</td>\n",
       "      <td>0.000700</td>\n",
       "    </tr>\n",
       "    <tr>\n",
       "      <th>About</th>\n",
       "      <td>56</td>\n",
       "      <td>439</td>\n",
       "      <td>0.001251</td>\n",
       "      <td>0.001882</td>\n",
       "      <td>0.000631</td>\n",
       "    </tr>\n",
       "    <tr>\n",
       "      <th>Add to Playlist</th>\n",
       "      <td>1038</td>\n",
       "      <td>5488</td>\n",
       "      <td>0.023190</td>\n",
       "      <td>0.023524</td>\n",
       "      <td>0.000334</td>\n",
       "    </tr>\n",
       "    <tr>\n",
       "      <th>Error</th>\n",
       "      <td>32</td>\n",
       "      <td>220</td>\n",
       "      <td>0.000715</td>\n",
       "      <td>0.000943</td>\n",
       "      <td>0.000228</td>\n",
       "    </tr>\n",
       "    <tr>\n",
       "      <th>Save Settings</th>\n",
       "      <td>58</td>\n",
       "      <td>252</td>\n",
       "      <td>0.001296</td>\n",
       "      <td>0.001080</td>\n",
       "      <td>0.000216</td>\n",
       "    </tr>\n",
       "    <tr>\n",
       "      <th>Submit Upgrade</th>\n",
       "      <td>32</td>\n",
       "      <td>127</td>\n",
       "      <td>0.000715</td>\n",
       "      <td>0.000544</td>\n",
       "      <td>0.000171</td>\n",
       "    </tr>\n",
       "    <tr>\n",
       "      <th>Downgrade</th>\n",
       "      <td>337</td>\n",
       "      <td>1718</td>\n",
       "      <td>0.007529</td>\n",
       "      <td>0.007364</td>\n",
       "      <td>0.000165</td>\n",
       "    </tr>\n",
       "    <tr>\n",
       "      <th>Help</th>\n",
       "      <td>239</td>\n",
       "      <td>1215</td>\n",
       "      <td>0.005340</td>\n",
       "      <td>0.005208</td>\n",
       "      <td>0.000131</td>\n",
       "    </tr>\n",
       "    <tr>\n",
       "      <th>Submit Downgrade</th>\n",
       "      <td>9</td>\n",
       "      <td>54</td>\n",
       "      <td>0.000201</td>\n",
       "      <td>0.000231</td>\n",
       "      <td>0.000030</td>\n",
       "    </tr>\n",
       "  </tbody>\n",
       "</table>\n",
       "</div>"
      ],
      "text/plain": [
       "                  churn_user_1  churn_user_0  churn_1%  churn_0%    %_diff\n",
       "page                                                                      \n",
       "Roll Advert                967          2966  0.021604  0.012714  0.008890\n",
       "NextSong                 36394        191714  0.813092  0.821784  0.008692\n",
       "Thumbs Up                 1859         10692  0.041533  0.045831  0.004299\n",
       "Thumbs Down                496          2050  0.011081  0.008787  0.002294\n",
       "Add Friend                 636          3641  0.014209  0.015607  0.001398\n",
       "Home                      1672          8410  0.037355  0.036050  0.001305\n",
       "Logout                     553          2673  0.012355  0.011458  0.000897\n",
       "Upgrade                    112           387  0.002502  0.001659  0.000843\n",
       "Settings                   270          1244  0.006032  0.005332  0.000700\n",
       "About                       56           439  0.001251  0.001882  0.000631\n",
       "Add to Playlist           1038          5488  0.023190  0.023524  0.000334\n",
       "Error                       32           220  0.000715  0.000943  0.000228\n",
       "Save Settings               58           252  0.001296  0.001080  0.000216\n",
       "Submit Upgrade              32           127  0.000715  0.000544  0.000171\n",
       "Downgrade                  337          1718  0.007529  0.007364  0.000165\n",
       "Help                       239          1215  0.005340  0.005208  0.000131\n",
       "Submit Downgrade             9            54  0.000201  0.000231  0.000030"
      ]
     },
     "execution_count": 77,
     "metadata": {},
     "output_type": "execute_result"
    }
   ],
   "source": [
    "df_page_all.sort_values(by=['%_diff'], ascending=False)"
   ]
  },
  {
   "cell_type": "code",
   "execution_count": 78,
   "metadata": {},
   "outputs": [
    {
     "data": {
      "image/png": "[encoded data removed]",
      "text/plain": [
       "<Figure size 720x576 with 1 Axes>"
      ]
     },
     "metadata": {
      "needs_background": "light"
     },
     "output_type": "display_data"
    }
   ],
   "source": [
    "df_page_all[['churn_1%', 'churn_0%']].plot(kind='barh', figsize=(10, 8));"
   ]
  },
  {
   "cell_type": "code",
   "execution_count": 79,
   "metadata": {},
   "outputs": [
    {
     "data": {
      "image/png": "[encoded data removed]",
      "text/plain": [
       "<Figure size 720x576 with 1 Axes>"
      ]
     },
     "metadata": {
      "needs_background": "light"
     },
     "output_type": "display_data"
    }
   ],
   "source": [
    "df_page_all[df_page_all.index != 'NextSong'][['churn_0%', 'churn_1%']]\\\n",
    "    .plot(kind='barh', \n",
    "          figsize=(10, 8));\n",
    "plt.title('Churned vs Not churned users by Page Event');"
   ]
  },
  {
   "cell_type": "markdown",
   "metadata": {},
   "source": [
    "<b>Paid vs Free accounts"
   ]
  },
  {
   "cell_type": "code",
   "execution_count": 80,
   "metadata": {},
   "outputs": [
    {
     "data": {
      "text/html": [
       "<div>\n",
       "<style scoped>\n",
       "    .dataframe tbody tr th:only-of-type {\n",
       "        vertical-align: middle;\n",
       "    }\n",
       "\n",
       "    .dataframe tbody tr th {\n",
       "        vertical-align: top;\n",
       "    }\n",
       "\n",
       "    .dataframe thead th {\n",
       "        text-align: right;\n",
       "    }\n",
       "</style>\n",
       "<table border=\"1\" class=\"dataframe\">\n",
       "  <thead>\n",
       "    <tr style=\"text-align: right;\">\n",
       "      <th></th>\n",
       "      <th>artist</th>\n",
       "      <th>auth</th>\n",
       "      <th>firstName</th>\n",
       "      <th>gender</th>\n",
       "      <th>itemInSession</th>\n",
       "      <th>lastName</th>\n",
       "      <th>length</th>\n",
       "      <th>level</th>\n",
       "      <th>location</th>\n",
       "      <th>method</th>\n",
       "      <th>page</th>\n",
       "      <th>registration</th>\n",
       "      <th>sessionId</th>\n",
       "      <th>song</th>\n",
       "      <th>status</th>\n",
       "      <th>ts</th>\n",
       "      <th>userAgent</th>\n",
       "      <th>userId</th>\n",
       "      <th>registration_time</th>\n",
       "      <th>event_timestamp</th>\n",
       "      <th>city</th>\n",
       "      <th>state</th>\n",
       "      <th>browser</th>\n",
       "      <th>operating_system</th>\n",
       "      <th>device_type</th>\n",
       "      <th>device_family</th>\n",
       "      <th>device_model</th>\n",
       "      <th>churn</th>\n",
       "      <th>user_paid</th>\n",
       "      <th>churn_user</th>\n",
       "    </tr>\n",
       "  </thead>\n",
       "  <tbody>\n",
       "    <tr>\n",
       "      <th>0</th>\n",
       "      <td>Martha Tilston</td>\n",
       "      <td>Logged In</td>\n",
       "      <td>Colin</td>\n",
       "      <td>M</td>\n",
       "      <td>50</td>\n",
       "      <td>Freeman</td>\n",
       "      <td>277.89016</td>\n",
       "      <td>paid</td>\n",
       "      <td>Bakersfield, CA</td>\n",
       "      <td>PUT</td>\n",
       "      <td>NextSong</td>\n",
       "      <td>1538173362000</td>\n",
       "      <td>29</td>\n",
       "      <td>Rockpools</td>\n",
       "      <td>200</td>\n",
       "      <td>1538352117000</td>\n",
       "      <td>Mozilla/5.0 (Windows NT 6.1; WOW64; rv:31.0) G...</td>\n",
       "      <td>30</td>\n",
       "      <td>2018-09-29 00:22:42</td>\n",
       "      <td>2018-10-01 02:01:57</td>\n",
       "      <td>Bakersfield</td>\n",
       "      <td>CA</td>\n",
       "      <td>Firefox</td>\n",
       "      <td>Windows</td>\n",
       "      <td>Pc</td>\n",
       "      <td>Other</td>\n",
       "      <td>None</td>\n",
       "      <td>0</td>\n",
       "      <td>1</td>\n",
       "      <td>0</td>\n",
       "    </tr>\n",
       "    <tr>\n",
       "      <th>1</th>\n",
       "      <td>Five Iron Frenzy</td>\n",
       "      <td>Logged In</td>\n",
       "      <td>Micah</td>\n",
       "      <td>M</td>\n",
       "      <td>79</td>\n",
       "      <td>Long</td>\n",
       "      <td>236.09424</td>\n",
       "      <td>free</td>\n",
       "      <td>Boston-Cambridge-Newton, MA-NH</td>\n",
       "      <td>PUT</td>\n",
       "      <td>NextSong</td>\n",
       "      <td>1538331630000</td>\n",
       "      <td>8</td>\n",
       "      <td>Canada</td>\n",
       "      <td>200</td>\n",
       "      <td>1538352180000</td>\n",
       "      <td>\"Mozilla/5.0 (Windows NT 6.1; WOW64) AppleWebK...</td>\n",
       "      <td>9</td>\n",
       "      <td>2018-09-30 20:20:30</td>\n",
       "      <td>2018-10-01 02:03:00</td>\n",
       "      <td>Boston-Cambridge-Newton</td>\n",
       "      <td>MA-NH</td>\n",
       "      <td>Chrome</td>\n",
       "      <td>Windows</td>\n",
       "      <td>Pc</td>\n",
       "      <td>Other</td>\n",
       "      <td>None</td>\n",
       "      <td>0</td>\n",
       "      <td>1</td>\n",
       "      <td>0</td>\n",
       "    </tr>\n",
       "    <tr>\n",
       "      <th>2</th>\n",
       "      <td>Adam Lambert</td>\n",
       "      <td>Logged In</td>\n",
       "      <td>Colin</td>\n",
       "      <td>M</td>\n",
       "      <td>51</td>\n",
       "      <td>Freeman</td>\n",
       "      <td>282.82730</td>\n",
       "      <td>paid</td>\n",
       "      <td>Bakersfield, CA</td>\n",
       "      <td>PUT</td>\n",
       "      <td>NextSong</td>\n",
       "      <td>1538173362000</td>\n",
       "      <td>29</td>\n",
       "      <td>Time For Miracles</td>\n",
       "      <td>200</td>\n",
       "      <td>1538352394000</td>\n",
       "      <td>Mozilla/5.0 (Windows NT 6.1; WOW64; rv:31.0) G...</td>\n",
       "      <td>30</td>\n",
       "      <td>2018-09-29 00:22:42</td>\n",
       "      <td>2018-10-01 02:06:34</td>\n",
       "      <td>Bakersfield</td>\n",
       "      <td>CA</td>\n",
       "      <td>Firefox</td>\n",
       "      <td>Windows</td>\n",
       "      <td>Pc</td>\n",
       "      <td>Other</td>\n",
       "      <td>None</td>\n",
       "      <td>0</td>\n",
       "      <td>1</td>\n",
       "      <td>0</td>\n",
       "    </tr>\n",
       "    <tr>\n",
       "      <th>3</th>\n",
       "      <td>Enigma</td>\n",
       "      <td>Logged In</td>\n",
       "      <td>Micah</td>\n",
       "      <td>M</td>\n",
       "      <td>80</td>\n",
       "      <td>Long</td>\n",
       "      <td>262.71302</td>\n",
       "      <td>free</td>\n",
       "      <td>Boston-Cambridge-Newton, MA-NH</td>\n",
       "      <td>PUT</td>\n",
       "      <td>NextSong</td>\n",
       "      <td>1538331630000</td>\n",
       "      <td>8</td>\n",
       "      <td>Knocking On Forbidden Doors</td>\n",
       "      <td>200</td>\n",
       "      <td>1538352416000</td>\n",
       "      <td>\"Mozilla/5.0 (Windows NT 6.1; WOW64) AppleWebK...</td>\n",
       "      <td>9</td>\n",
       "      <td>2018-09-30 20:20:30</td>\n",
       "      <td>2018-10-01 02:06:56</td>\n",
       "      <td>Boston-Cambridge-Newton</td>\n",
       "      <td>MA-NH</td>\n",
       "      <td>Chrome</td>\n",
       "      <td>Windows</td>\n",
       "      <td>Pc</td>\n",
       "      <td>Other</td>\n",
       "      <td>None</td>\n",
       "      <td>0</td>\n",
       "      <td>1</td>\n",
       "      <td>0</td>\n",
       "    </tr>\n",
       "    <tr>\n",
       "      <th>4</th>\n",
       "      <td>Daft Punk</td>\n",
       "      <td>Logged In</td>\n",
       "      <td>Colin</td>\n",
       "      <td>M</td>\n",
       "      <td>52</td>\n",
       "      <td>Freeman</td>\n",
       "      <td>223.60771</td>\n",
       "      <td>paid</td>\n",
       "      <td>Bakersfield, CA</td>\n",
       "      <td>PUT</td>\n",
       "      <td>NextSong</td>\n",
       "      <td>1538173362000</td>\n",
       "      <td>29</td>\n",
       "      <td>Harder Better Faster Stronger</td>\n",
       "      <td>200</td>\n",
       "      <td>1538352676000</td>\n",
       "      <td>Mozilla/5.0 (Windows NT 6.1; WOW64; rv:31.0) G...</td>\n",
       "      <td>30</td>\n",
       "      <td>2018-09-29 00:22:42</td>\n",
       "      <td>2018-10-01 02:11:16</td>\n",
       "      <td>Bakersfield</td>\n",
       "      <td>CA</td>\n",
       "      <td>Firefox</td>\n",
       "      <td>Windows</td>\n",
       "      <td>Pc</td>\n",
       "      <td>Other</td>\n",
       "      <td>None</td>\n",
       "      <td>0</td>\n",
       "      <td>1</td>\n",
       "      <td>0</td>\n",
       "    </tr>\n",
       "  </tbody>\n",
       "</table>\n",
       "</div>"
      ],
      "text/plain": [
       "             artist       auth firstName gender  itemInSession lastName  \\\n",
       "0    Martha Tilston  Logged In     Colin      M             50  Freeman   \n",
       "1  Five Iron Frenzy  Logged In     Micah      M             79     Long   \n",
       "2      Adam Lambert  Logged In     Colin      M             51  Freeman   \n",
       "3            Enigma  Logged In     Micah      M             80     Long   \n",
       "4         Daft Punk  Logged In     Colin      M             52  Freeman   \n",
       "\n",
       "      length level                        location method      page  \\\n",
       "0  277.89016  paid                 Bakersfield, CA    PUT  NextSong   \n",
       "1  236.09424  free  Boston-Cambridge-Newton, MA-NH    PUT  NextSong   \n",
       "2  282.82730  paid                 Bakersfield, CA    PUT  NextSong   \n",
       "3  262.71302  free  Boston-Cambridge-Newton, MA-NH    PUT  NextSong   \n",
       "4  223.60771  paid                 Bakersfield, CA    PUT  NextSong   \n",
       "\n",
       "    registration  sessionId                           song  status  \\\n",
       "0  1538173362000         29                      Rockpools     200   \n",
       "1  1538331630000          8                         Canada     200   \n",
       "2  1538173362000         29              Time For Miracles     200   \n",
       "3  1538331630000          8    Knocking On Forbidden Doors     200   \n",
       "4  1538173362000         29  Harder Better Faster Stronger     200   \n",
       "\n",
       "              ts                                          userAgent userId  \\\n",
       "0  1538352117000  Mozilla/5.0 (Windows NT 6.1; WOW64; rv:31.0) G...     30   \n",
       "1  1538352180000  \"Mozilla/5.0 (Windows NT 6.1; WOW64) AppleWebK...      9   \n",
       "2  1538352394000  Mozilla/5.0 (Windows NT 6.1; WOW64; rv:31.0) G...     30   \n",
       "3  1538352416000  \"Mozilla/5.0 (Windows NT 6.1; WOW64) AppleWebK...      9   \n",
       "4  1538352676000  Mozilla/5.0 (Windows NT 6.1; WOW64; rv:31.0) G...     30   \n",
       "\n",
       "     registration_time      event_timestamp                     city  state  \\\n",
       "0  2018-09-29 00:22:42  2018-10-01 02:01:57              Bakersfield     CA   \n",
       "1  2018-09-30 20:20:30  2018-10-01 02:03:00  Boston-Cambridge-Newton  MA-NH   \n",
       "2  2018-09-29 00:22:42  2018-10-01 02:06:34              Bakersfield     CA   \n",
       "3  2018-09-30 20:20:30  2018-10-01 02:06:56  Boston-Cambridge-Newton  MA-NH   \n",
       "4  2018-09-29 00:22:42  2018-10-01 02:11:16              Bakersfield     CA   \n",
       "\n",
       "   browser operating_system device_type device_family device_model  churn  \\\n",
       "0  Firefox          Windows          Pc         Other         None      0   \n",
       "1   Chrome          Windows          Pc         Other         None      0   \n",
       "2  Firefox          Windows          Pc         Other         None      0   \n",
       "3   Chrome          Windows          Pc         Other         None      0   \n",
       "4  Firefox          Windows          Pc         Other         None      0   \n",
       "\n",
       "   user_paid  churn_user  \n",
       "0          1           0  \n",
       "1          1           0  \n",
       "2          1           0  \n",
       "3          1           0  \n",
       "4          1           0  "
      ]
     },
     "execution_count": 80,
     "metadata": {},
     "output_type": "execute_result"
    }
   ],
   "source": [
    "pd.set_option('max_columns', None)\n",
    "df_pd.head()"
   ]
  },
  {
   "cell_type": "code",
   "execution_count": 81,
   "metadata": {},
   "outputs": [],
   "source": [
    "# update analysis paid vs free users\n",
    "df_pd_level_0 = df_pd_notchurned.drop_duplicates(subset=['userId']).groupby(['churn_user', 'user_paid']).agg({'userId':'count'})\n",
    "df_pd_level_1 = df_pd_churned.drop_duplicates(subset=['userId']).groupby(['churn_user', 'user_paid']).agg({'userId':'count'})\n",
    "df_pd_level_0['%_1'] = df_pd_level_0.userId / df_pd_level_0.userId.sum()\n",
    "df_pd_level_1['%_1'] = df_pd_level_1.userId / df_pd_level_1.userId.sum()\n",
    "df_pd_level_all = df_pd_level_0.append(df_pd_level_1)\n"
   ]
  },
  {
   "cell_type": "code",
   "execution_count": 82,
   "metadata": {},
   "outputs": [
    {
     "data": {
      "text/html": [
       "<div>\n",
       "<style scoped>\n",
       "    .dataframe tbody tr th:only-of-type {\n",
       "        vertical-align: middle;\n",
       "    }\n",
       "\n",
       "    .dataframe tbody tr th {\n",
       "        vertical-align: top;\n",
       "    }\n",
       "\n",
       "    .dataframe thead th {\n",
       "        text-align: right;\n",
       "    }\n",
       "</style>\n",
       "<table border=\"1\" class=\"dataframe\">\n",
       "  <thead>\n",
       "    <tr style=\"text-align: right;\">\n",
       "      <th></th>\n",
       "      <th></th>\n",
       "      <th>userId</th>\n",
       "      <th>%_1</th>\n",
       "    </tr>\n",
       "    <tr>\n",
       "      <th>churn_user</th>\n",
       "      <th>user_paid</th>\n",
       "      <th></th>\n",
       "      <th></th>\n",
       "    </tr>\n",
       "  </thead>\n",
       "  <tbody>\n",
       "    <tr>\n",
       "      <th rowspan=\"2\" valign=\"top\">0</th>\n",
       "      <th>0</th>\n",
       "      <td>44</td>\n",
       "      <td>0.254335</td>\n",
       "    </tr>\n",
       "    <tr>\n",
       "      <th>1</th>\n",
       "      <td>129</td>\n",
       "      <td>0.745665</td>\n",
       "    </tr>\n",
       "    <tr>\n",
       "      <th rowspan=\"2\" valign=\"top\">1</th>\n",
       "      <th>0</th>\n",
       "      <td>16</td>\n",
       "      <td>0.307692</td>\n",
       "    </tr>\n",
       "    <tr>\n",
       "      <th>1</th>\n",
       "      <td>36</td>\n",
       "      <td>0.692308</td>\n",
       "    </tr>\n",
       "  </tbody>\n",
       "</table>\n",
       "</div>"
      ],
      "text/plain": [
       "                      userId       %_1\n",
       "churn_user user_paid                  \n",
       "0          0              44  0.254335\n",
       "           1             129  0.745665\n",
       "1          0              16  0.307692\n",
       "           1              36  0.692308"
      ]
     },
     "execution_count": 82,
     "metadata": {},
     "output_type": "execute_result"
    }
   ],
   "source": [
    "df_pd_level_all"
   ]
  },
  {
   "cell_type": "code",
   "execution_count": 83,
   "metadata": {},
   "outputs": [
    {
     "data": {
      "image/png": "[encoded data removed]",
      "text/plain": [
       "<Figure size 432x288 with 1 Axes>"
      ]
     },
     "metadata": {
      "needs_background": "light"
     },
     "output_type": "display_data"
    }
   ],
   "source": [
    "df_pd_level_all.unstack()[['userId']].plot(kind='bar');\n",
    "plt.legend(title='Subscription', labels=['Free', 'Paid'], loc='best');\n",
    "plt.title('Churned vs Non-Churend Users by Subscription');"
   ]
  },
  {
   "cell_type": "code",
   "execution_count": null,
   "metadata": {},
   "outputs": [],
   "source": []
  },
  {
   "cell_type": "markdown",
   "metadata": {},
   "source": [
    "# Feature Engineering\n",
    "Once you've familiarized yourself with the data, build out the features you find promising to train your model on. To work with the full dataset, you can follow the following steps.\n",
    "- Write a script to extract the necessary features from the smaller subset of data\n",
    "- Ensure that your script is scalable, using the best practices discussed in Lesson 3\n",
    "- Try your script on the full data set, debugging your script if necessary\n",
    "\n",
    "If you are working in the classroom workspace, you can just extract features based on the small subset of data contained here. Be sure to transfer over this work to the larger dataset when you work on your Spark cluster."
   ]
  },
  {
   "cell_type": "code",
   "execution_count": null,
   "metadata": {},
   "outputs": [],
   "source": []
  },
  {
   "cell_type": "markdown",
   "metadata": {},
   "source": [
    "# Modeling\n",
    "Split the full dataset into train, test, and validation sets. Test out several of the machine learning methods you learned. Evaluate the accuracy of the various models, tuning parameters as necessary. Determine your winning model based on test accuracy and report results on the validation set. Since the churned users are a fairly small subset, I suggest using F1 score as the metric to optimize."
   ]
  },
  {
   "cell_type": "code",
   "execution_count": 84,
   "metadata": {},
   "outputs": [],
   "source": [
    "# Modelling and training is done at a later point.\n",
    "# The goal of this project is to perform initial data analysis and to inform management\n",
    "# for decision making. Based on discussion, it can be decided in which direction to proceed."
   ]
  },
  {
   "cell_type": "markdown",
   "metadata": {},
   "source": [
    "# Final Steps\n",
    "Clean up your code, adding comments and renaming variables to make the code easier to read and maintain. Refer to the Spark Project Overview page and Data Scientist Capstone Project Rubric to make sure you are including all components of the capstone project and meet all expectations. Remember, this includes thorough documentation in a README file in a Github repository, as well as a web app or blog post."
   ]
  },
  {
   "cell_type": "code",
   "execution_count": 85,
   "metadata": {},
   "outputs": [],
   "source": [
    "# second parser 'user-agents' has been added to the load & cleaning section after having done initial analysis."
   ]
  }
 ],
 "metadata": {
  "kernelspec": {
   "display_name": "Python 3",
   "language": "python",
   "name": "python3"
  },
  "language_info": {
   "codemirror_mode": {
    "name": "ipython",
    "version": 3
   },
   "file_extension": ".py",
   "mimetype": "text/x-python",
   "name": "python",
   "nbconvert_exporter": "python",
   "pygments_lexer": "ipython3",
   "version": "3.7.1"
  }
 },
 "nbformat": 4,
 "nbformat_minor": 2
}
